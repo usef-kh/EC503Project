{
  "nbformat": 4,
  "nbformat_minor": 0,
  "metadata": {
    "colab": {
      "name": "Combined_Approach.ipynb",
      "provenance": [],
      "machine_shape": "hm"
    },
    "kernelspec": {
      "name": "python3",
      "display_name": "Python 3"
    },
    "accelerator": "GPU"
  },
  "cells": [
    {
      "cell_type": "code",
      "metadata": {
        "id": "Ey2D9Y8Gsjaj",
        "colab_type": "code",
        "outputId": "fda0b830-1879-470a-9b99-1868ec49c4f5",
        "colab": {
          "base_uri": "https://localhost:8080/",
          "height": 255
        }
      },
      "source": [
        "import pandas as pd\n",
        "import numpy as np\n",
        "from copy import deepcopy \n",
        "from matplotlib import pyplot as plt\n",
        "import warnings\n",
        "\n",
        "warnings.filterwarnings('ignore')\n",
        "np.set_printoptions(suppress = True)\n",
        "\n",
        "# Trainng Samples loaded from Github Repo\n",
        "ratings_path = 'https://raw.githubusercontent.com/usef-kh/EC503Project/master/Datasets/ml-1m/ratings.dat'\n",
        "titles_path = 'https://raw.githubusercontent.com/usef-kh/EC503Project/master/Datasets/ml-1m/movies.dat'\n",
        "\n",
        "ratings = pd.read_csv(ratings_path, sep  = \"::\", names = ['UserID', 'MovieID', 'Rating', 'Timestamp'])\n",
        "titles = pd.read_csv(titles_path, sep = \"::\", names = ['MovieID', 'Title', 'Genres'], encoding ='latin-1')\n",
        "data = pd.merge(ratings, titles, on='MovieID')\n",
        "\n",
        "ntotal = data.shape[0]\n",
        "ntrain = int(np.floor(ntotal*0.85))\n",
        "ntest = ntotal - ntrain\n",
        "\n",
        "print(f\"ntotal: {ntotal}\\nntrain: {ntrain}\\nntest: {ntest}\")\n",
        "\n",
        "data.head()"
      ],
      "execution_count": 1,
      "outputs": [
        {
          "output_type": "stream",
          "text": [
            "ntotal: 1000209\n",
            "ntrain: 850177\n",
            "ntest: 150032\n"
          ],
          "name": "stdout"
        },
        {
          "output_type": "execute_result",
          "data": {
            "text/html": [
              "<div>\n",
              "<style scoped>\n",
              "    .dataframe tbody tr th:only-of-type {\n",
              "        vertical-align: middle;\n",
              "    }\n",
              "\n",
              "    .dataframe tbody tr th {\n",
              "        vertical-align: top;\n",
              "    }\n",
              "\n",
              "    .dataframe thead th {\n",
              "        text-align: right;\n",
              "    }\n",
              "</style>\n",
              "<table border=\"1\" class=\"dataframe\">\n",
              "  <thead>\n",
              "    <tr style=\"text-align: right;\">\n",
              "      <th></th>\n",
              "      <th>UserID</th>\n",
              "      <th>MovieID</th>\n",
              "      <th>Rating</th>\n",
              "      <th>Timestamp</th>\n",
              "      <th>Title</th>\n",
              "      <th>Genres</th>\n",
              "    </tr>\n",
              "  </thead>\n",
              "  <tbody>\n",
              "    <tr>\n",
              "      <th>0</th>\n",
              "      <td>1</td>\n",
              "      <td>1193</td>\n",
              "      <td>5</td>\n",
              "      <td>978300760</td>\n",
              "      <td>One Flew Over the Cuckoo's Nest (1975)</td>\n",
              "      <td>Drama</td>\n",
              "    </tr>\n",
              "    <tr>\n",
              "      <th>1</th>\n",
              "      <td>2</td>\n",
              "      <td>1193</td>\n",
              "      <td>5</td>\n",
              "      <td>978298413</td>\n",
              "      <td>One Flew Over the Cuckoo's Nest (1975)</td>\n",
              "      <td>Drama</td>\n",
              "    </tr>\n",
              "    <tr>\n",
              "      <th>2</th>\n",
              "      <td>12</td>\n",
              "      <td>1193</td>\n",
              "      <td>4</td>\n",
              "      <td>978220179</td>\n",
              "      <td>One Flew Over the Cuckoo's Nest (1975)</td>\n",
              "      <td>Drama</td>\n",
              "    </tr>\n",
              "    <tr>\n",
              "      <th>3</th>\n",
              "      <td>15</td>\n",
              "      <td>1193</td>\n",
              "      <td>4</td>\n",
              "      <td>978199279</td>\n",
              "      <td>One Flew Over the Cuckoo's Nest (1975)</td>\n",
              "      <td>Drama</td>\n",
              "    </tr>\n",
              "    <tr>\n",
              "      <th>4</th>\n",
              "      <td>17</td>\n",
              "      <td>1193</td>\n",
              "      <td>5</td>\n",
              "      <td>978158471</td>\n",
              "      <td>One Flew Over the Cuckoo's Nest (1975)</td>\n",
              "      <td>Drama</td>\n",
              "    </tr>\n",
              "  </tbody>\n",
              "</table>\n",
              "</div>"
            ],
            "text/plain": [
              "   UserID  MovieID  ...                                   Title  Genres\n",
              "0       1     1193  ...  One Flew Over the Cuckoo's Nest (1975)   Drama\n",
              "1       2     1193  ...  One Flew Over the Cuckoo's Nest (1975)   Drama\n",
              "2      12     1193  ...  One Flew Over the Cuckoo's Nest (1975)   Drama\n",
              "3      15     1193  ...  One Flew Over the Cuckoo's Nest (1975)   Drama\n",
              "4      17     1193  ...  One Flew Over the Cuckoo's Nest (1975)   Drama\n",
              "\n",
              "[5 rows x 6 columns]"
            ]
          },
          "metadata": {
            "tags": []
          },
          "execution_count": 1
        }
      ]
    },
    {
      "cell_type": "code",
      "metadata": {
        "id": "ONz6bIgks3C0",
        "colab_type": "code",
        "outputId": "ebe943ca-b9ab-4e9c-8d0b-704eb5a7e680",
        "colab": {
          "base_uri": "https://localhost:8080/",
          "height": 238
        }
      },
      "source": [
        "np.random.seed(42)\n",
        "shuffled_data = data.reindex(np.random.permutation(data.index))\n",
        "\n",
        "train = deepcopy(shuffled_data)\n",
        "test = deepcopy(shuffled_data)\n",
        "\n",
        "train['Rating'][ntrain:] = -1\n",
        "test['Rating'][:ntrain] = -1\n",
        "\n",
        "train_mtx = train.pivot_table(index='UserID', columns='Title', values='Rating')\n",
        "test_mtx = test.pivot_table(index='UserID', columns='Title', values='Rating')\n",
        "\n",
        "train_mtx = train_mtx.values\n",
        "test_mtx = test_mtx.values\n",
        "\n",
        "train_mtx[train_mtx == -1] = np.nan\n",
        "test_mtx[test_mtx == -1] = np.nan\n",
        "\n",
        "train_select = ~(np.isnan(train_mtx))\n",
        "test_select = ~(np.isnan(test_mtx))\n",
        "\n",
        "print(np.shape(test_mtx), np.shape(train_mtx))\n",
        "print(np.shape(test_select), np.shape(train_select))\n",
        "\n",
        "train.head()"
      ],
      "execution_count": 2,
      "outputs": [
        {
          "output_type": "stream",
          "text": [
            "(6040, 3706) (6040, 3706)\n",
            "(6040, 3706) (6040, 3706)\n"
          ],
          "name": "stdout"
        },
        {
          "output_type": "execute_result",
          "data": {
            "text/html": [
              "<div>\n",
              "<style scoped>\n",
              "    .dataframe tbody tr th:only-of-type {\n",
              "        vertical-align: middle;\n",
              "    }\n",
              "\n",
              "    .dataframe tbody tr th {\n",
              "        vertical-align: top;\n",
              "    }\n",
              "\n",
              "    .dataframe thead th {\n",
              "        text-align: right;\n",
              "    }\n",
              "</style>\n",
              "<table border=\"1\" class=\"dataframe\">\n",
              "  <thead>\n",
              "    <tr style=\"text-align: right;\">\n",
              "      <th></th>\n",
              "      <th>UserID</th>\n",
              "      <th>MovieID</th>\n",
              "      <th>Rating</th>\n",
              "      <th>Timestamp</th>\n",
              "      <th>Title</th>\n",
              "      <th>Genres</th>\n",
              "    </tr>\n",
              "  </thead>\n",
              "  <tbody>\n",
              "    <tr>\n",
              "      <th>895536</th>\n",
              "      <td>5755</td>\n",
              "      <td>184</td>\n",
              "      <td>3</td>\n",
              "      <td>958280246</td>\n",
              "      <td>Nadja (1994)</td>\n",
              "      <td>Drama</td>\n",
              "    </tr>\n",
              "    <tr>\n",
              "      <th>899739</th>\n",
              "      <td>4585</td>\n",
              "      <td>519</td>\n",
              "      <td>3</td>\n",
              "      <td>964321944</td>\n",
              "      <td>Robocop 3 (1993)</td>\n",
              "      <td>Sci-Fi|Thriller</td>\n",
              "    </tr>\n",
              "    <tr>\n",
              "      <th>55687</th>\n",
              "      <td>1503</td>\n",
              "      <td>3114</td>\n",
              "      <td>4</td>\n",
              "      <td>974762175</td>\n",
              "      <td>Toy Story 2 (1999)</td>\n",
              "      <td>Animation|Children's|Comedy</td>\n",
              "    </tr>\n",
              "    <tr>\n",
              "      <th>63727</th>\n",
              "      <td>2166</td>\n",
              "      <td>648</td>\n",
              "      <td>4</td>\n",
              "      <td>974614593</td>\n",
              "      <td>Mission: Impossible (1996)</td>\n",
              "      <td>Action|Adventure|Mystery</td>\n",
              "    </tr>\n",
              "    <tr>\n",
              "      <th>822011</th>\n",
              "      <td>3201</td>\n",
              "      <td>2178</td>\n",
              "      <td>5</td>\n",
              "      <td>968626301</td>\n",
              "      <td>Frenzy (1972)</td>\n",
              "      <td>Thriller</td>\n",
              "    </tr>\n",
              "  </tbody>\n",
              "</table>\n",
              "</div>"
            ],
            "text/plain": [
              "        UserID  ...                       Genres\n",
              "895536    5755  ...                        Drama\n",
              "899739    4585  ...              Sci-Fi|Thriller\n",
              "55687     1503  ...  Animation|Children's|Comedy\n",
              "63727     2166  ...     Action|Adventure|Mystery\n",
              "822011    3201  ...                     Thriller\n",
              "\n",
              "[5 rows x 6 columns]"
            ]
          },
          "metadata": {
            "tags": []
          },
          "execution_count": 2
        }
      ]
    },
    {
      "cell_type": "code",
      "metadata": {
        "id": "9l3EK9pQyz3f",
        "colab_type": "code",
        "outputId": "03c9d9cd-2d0a-43ef-8d39-2cc6b2a52ba1",
        "colab": {
          "base_uri": "https://localhost:8080/",
          "height": 204
        }
      },
      "source": [
        "test['Rating'][:ntrain] = np.nan\n",
        "test.dropna(inplace = True)\n",
        "test.head()"
      ],
      "execution_count": 3,
      "outputs": [
        {
          "output_type": "execute_result",
          "data": {
            "text/html": [
              "<div>\n",
              "<style scoped>\n",
              "    .dataframe tbody tr th:only-of-type {\n",
              "        vertical-align: middle;\n",
              "    }\n",
              "\n",
              "    .dataframe tbody tr th {\n",
              "        vertical-align: top;\n",
              "    }\n",
              "\n",
              "    .dataframe thead th {\n",
              "        text-align: right;\n",
              "    }\n",
              "</style>\n",
              "<table border=\"1\" class=\"dataframe\">\n",
              "  <thead>\n",
              "    <tr style=\"text-align: right;\">\n",
              "      <th></th>\n",
              "      <th>UserID</th>\n",
              "      <th>MovieID</th>\n",
              "      <th>Rating</th>\n",
              "      <th>Timestamp</th>\n",
              "      <th>Title</th>\n",
              "      <th>Genres</th>\n",
              "    </tr>\n",
              "  </thead>\n",
              "  <tbody>\n",
              "    <tr>\n",
              "      <th>750152</th>\n",
              "      <td>3821</td>\n",
              "      <td>1218</td>\n",
              "      <td>4.0</td>\n",
              "      <td>975104845</td>\n",
              "      <td>Killer, The (Die xue shuang xiong) (1989)</td>\n",
              "      <td>Action|Thriller</td>\n",
              "    </tr>\n",
              "    <tr>\n",
              "      <th>336085</th>\n",
              "      <td>4080</td>\n",
              "      <td>3682</td>\n",
              "      <td>3.0</td>\n",
              "      <td>965442548</td>\n",
              "      <td>Magnum Force (1973)</td>\n",
              "      <td>Western</td>\n",
              "    </tr>\n",
              "    <tr>\n",
              "      <th>845212</th>\n",
              "      <td>4277</td>\n",
              "      <td>2155</td>\n",
              "      <td>5.0</td>\n",
              "      <td>965645457</td>\n",
              "      <td>Slums of Beverly Hills, The (1998)</td>\n",
              "      <td>Comedy</td>\n",
              "    </tr>\n",
              "    <tr>\n",
              "      <th>194076</th>\n",
              "      <td>438</td>\n",
              "      <td>653</td>\n",
              "      <td>4.0</td>\n",
              "      <td>976250166</td>\n",
              "      <td>Dragonheart (1996)</td>\n",
              "      <td>Action|Adventure|Fantasy</td>\n",
              "    </tr>\n",
              "    <tr>\n",
              "      <th>343179</th>\n",
              "      <td>4186</td>\n",
              "      <td>912</td>\n",
              "      <td>3.0</td>\n",
              "      <td>965328471</td>\n",
              "      <td>Casablanca (1942)</td>\n",
              "      <td>Drama|Romance|War</td>\n",
              "    </tr>\n",
              "  </tbody>\n",
              "</table>\n",
              "</div>"
            ],
            "text/plain": [
              "        UserID  ...                    Genres\n",
              "750152    3821  ...           Action|Thriller\n",
              "336085    4080  ...                   Western\n",
              "845212    4277  ...                    Comedy\n",
              "194076     438  ...  Action|Adventure|Fantasy\n",
              "343179    4186  ...         Drama|Romance|War\n",
              "\n",
              "[5 rows x 6 columns]"
            ]
          },
          "metadata": {
            "tags": []
          },
          "execution_count": 3
        }
      ]
    },
    {
      "cell_type": "code",
      "metadata": {
        "id": "qwAt0Lx9OfGs",
        "colab_type": "code",
        "outputId": "48cc7bad-0369-4c12-a400-8e607c29aa6b",
        "colab": {
          "base_uri": "https://localhost:8080/",
          "height": 136
        }
      },
      "source": [
        "user_means = np.nanmean(train_mtx, axis = 1)\n",
        "movie_means = np.nanmean(train_mtx, axis = 0)\n",
        "\n",
        "um = np.nanmean(user_means)\n",
        "mm = np.nanmean(movie_means)\n",
        "\n",
        "unan = np.argwhere(np.isnan(user_means))\n",
        "mnan = np.argwhere(np.isnan(movie_means))\n",
        "\n",
        "movie_means[mnan] = mm\n",
        "user_means[unan] = um\n",
        "\n",
        "print(\"User Means:\")\n",
        "print(\"Shape:\", user_means.shape)\n",
        "print(user_means)\n",
        "\n",
        "print('\\nMovie Means')\n",
        "print(\"Shape:\", movie_means.shape)\n",
        "print(movie_means)"
      ],
      "execution_count": 4,
      "outputs": [
        {
          "output_type": "stream",
          "text": [
            "User Means:\n",
            "Shape: (6040,)\n",
            "[4.17021277 3.7027027  3.91111111 ... 3.5625     3.87378641 3.5970696 ]\n",
            "\n",
            "Movie Means\n",
            "Shape: (3706,)\n",
            "[3.03030303 3.35       2.75       ... 3.2407125  2.57142857 3.24928367]\n"
          ],
          "name": "stdout"
        }
      ]
    },
    {
      "cell_type": "code",
      "metadata": {
        "id": "9Xydvy1sOhL1",
        "colab_type": "code",
        "colab": {}
      },
      "source": [
        "lam = 0.4\n",
        "[n_users, n_movies] = train_mtx.shape\n",
        "\n",
        "for i in range(n_users):\n",
        "  for j in range(n_movies):\n",
        "    if(np.isnan(train_mtx[i,j])):\n",
        "      train_mtx[i,j] = lam*user_means[i] + (1-lam)*movie_means[j]\n"
      ],
      "execution_count": 0,
      "outputs": []
    },
    {
      "cell_type": "code",
      "metadata": {
        "id": "Fve_hyo8s3Fl",
        "colab_type": "code",
        "colab": {}
      },
      "source": [
        "from scipy.sparse.linalg import svds\n",
        "from sklearn.metrics import mean_absolute_error as mae\n",
        "\n",
        "tmax = 11\n",
        "MAE = []\n",
        "reconstruction = deepcopy(train_mtx)\n",
        "for t in range(tmax):\n",
        "  U, sigma, Vt = svds(reconstruction, 50)\n",
        "  sigma = np.diag(sigma)\n",
        "\n",
        "  reconstruction = np.round(2*(np.dot(np.dot(U, sigma), Vt)))/2\n",
        "  reconstruction[train_select] = train_mtx[train_select]\n",
        "\n",
        "  reconstruction[reconstruction > 5] = 5\n",
        "  reconstruction[reconstruction < 0.5] = 0.5\n",
        "  \n",
        "  result = reconstruction[test_select].flatten() \n",
        "  ground_truth = test_mtx[test_select].flatten()\n",
        "\n",
        "  MAE.append(mae(result,ground_truth))"
      ],
      "execution_count": 0,
      "outputs": []
    },
    {
      "cell_type": "code",
      "metadata": {
        "id": "Vsyh_PmHs3KV",
        "colab_type": "code",
        "outputId": "23b4fe8d-7547-4003-fbea-2624a3f3b41c",
        "colab": {
          "base_uri": "https://localhost:8080/",
          "height": 329
        }
      },
      "source": [
        "plt.plot(list(range(tmax)), MAE)\n",
        "plt.xlabel('Iteration (t)')\n",
        "plt.ylabel('Test MAE')\n",
        "plt.xticks(np.arange(2, tmax, 2))\n",
        "plt.xlim(0,tmax)\n",
        "plt.title(\"MAE vs Iteration (t)\")\n",
        "plt.grid()\n",
        "\n",
        "print(\"Minimum MAE:\", \"{0:0.4f}\".format(min(MAE)))\n",
        "print(\"Maximum MAE:\", \"{0:0.4f}\".format(max(MAE)))"
      ],
      "execution_count": 7,
      "outputs": [
        {
          "output_type": "stream",
          "text": [
            "Minimum MAE: 0.6973\n",
            "Maximum MAE: 0.7087\n"
          ],
          "name": "stdout"
        },
        {
          "output_type": "display_data",
          "data": {
            "image/png": "[encoded data removed]",
            "text/plain": [
              "<Figure size 432x288 with 1 Axes>"
            ]
          },
          "metadata": {
            "tags": []
          }
        }
      ]
    },
    {
      "cell_type": "code",
      "metadata": {
        "id": "tJV98pjas2_1",
        "colab_type": "code",
        "outputId": "98f37869-5e8c-46e6-8444-0b1b9cb5bf15",
        "colab": {
          "base_uri": "https://localhost:8080/",
          "height": 136
        }
      },
      "source": [
        "reconstruction"
      ],
      "execution_count": 8,
      "outputs": [
        {
          "output_type": "execute_result",
          "data": {
            "text/plain": [
              "array([[3.5, 3.5, 3.5, ..., 3.5, 3. , 3.5],\n",
              "       [3.5, 3.5, 3. , ..., 3.5, 3. , 3.5],\n",
              "       [3.5, 3.5, 3. , ..., 3.5, 3. , 3.5],\n",
              "       ...,\n",
              "       [3. , 3.5, 3. , ..., 3.5, 3. , 3.5],\n",
              "       [3.5, 3.5, 3. , ..., 3.5, 3. , 3.5],\n",
              "       [3. , 3.5, 3. , ..., 3.5, 3. , 3. ]])"
            ]
          },
          "metadata": {
            "tags": []
          },
          "execution_count": 8
        }
      ]
    },
    {
      "cell_type": "code",
      "metadata": {
        "id": "U_MVvsvhuWG0",
        "colab_type": "code",
        "outputId": "65136c78-6e6e-4be2-83e1-5a3176308383",
        "colab": {
          "base_uri": "https://localhost:8080/",
          "height": 136
        }
      },
      "source": [
        "[nuser, nmovie] = np.shape(reconstruction)\n",
        "\n",
        "dataset = []\n",
        "for u in range(nuser//2):\n",
        "  for m in range(nmovie//2):\n",
        "    dataset.append([u,m, reconstruction[u,m]]) \n",
        "\n",
        "dataset = np.array(dataset)\n",
        "print(dataset)"
      ],
      "execution_count": 9,
      "outputs": [
        {
          "output_type": "stream",
          "text": [
            "[[   0.     0.     3.5]\n",
            " [   0.     1.     3.5]\n",
            " [   0.     2.     3.5]\n",
            " ...\n",
            " [3019.  1850.     3. ]\n",
            " [3019.  1851.     4. ]\n",
            " [3019.  1852.     4. ]]\n"
          ],
          "name": "stdout"
        }
      ]
    },
    {
      "cell_type": "code",
      "metadata": {
        "id": "V27WOd5Uxpah",
        "colab_type": "code",
        "colab": {}
      },
      "source": [
        "# Trainng Samples loaded from Github Repo\n",
        "titles_path = 'https://raw.githubusercontent.com/usef-kh/EC503Project/master/Datasets/ml-1m/movies.dat'\n",
        "users_path = 'https://raw.githubusercontent.com/usef-kh/EC503Project/master/Datasets/ml-1m/users.dat'\n",
        "\n",
        "ratings = pd.DataFrame(data=dataset, index=dataset[0:,0],  columns=['UserID', 'MovieID', 'Rating'])\n",
        "titles = pd.read_csv(titles_path, sep = \"::\", names = ['MovieID', 'Title', 'Genres'], encoding ='latin-1')\n",
        "users = pd.read_csv(users_path, sep = \"::\", names = ['UserID', 'Gender', 'Age', 'Occupation', 'Zip Code'], encoding ='latin-1')\n",
        "\n",
        "users.dropna(inplace=True)"
      ],
      "execution_count": 0,
      "outputs": []
    },
    {
      "cell_type": "code",
      "metadata": {
        "id": "OiO82v0qyZ3I",
        "colab_type": "code",
        "outputId": "429b8c02-bf62-4fea-bc68-e77e474d6686",
        "colab": {
          "base_uri": "https://localhost:8080/",
          "height": 54
        }
      },
      "source": [
        "all_genres = []\n",
        "for index,row in titles.iterrows():\n",
        "  #  separate the genres and put into a list\n",
        "  temp = row.Genres.split('|')\n",
        "   #  store all the genres into a list\n",
        "  all_genres =  all_genres + temp\n",
        "  # unique genres list\n",
        "genres = list(set(all_genres))\n",
        "lenGeneres = len(genres)\n",
        "zeroVec = np.zeros(lenGeneres) \n",
        "#  store the genres and corresponding index into a dictionary\n",
        "genreDict0 = dict(enumerate(genres))\n",
        "#  store genres as key and index as value\n",
        "genreDict = {value:key for key, value in genreDict0.items()}\n",
        "print(genreDict)\n"
      ],
      "execution_count": 11,
      "outputs": [
        {
          "output_type": "stream",
          "text": [
            "{'Documentary': 0, \"Children's\": 1, 'Adventure': 2, 'Film-Noir': 3, 'Musical': 4, 'Animation': 5, 'Romance': 6, 'Action': 7, 'Mystery': 8, 'Western': 9, 'War': 10, 'Thriller': 11, 'Drama': 12, 'Fantasy': 13, 'Crime': 14, 'Sci-Fi': 15, 'Horror': 16, 'Comedy': 17}\n"
          ],
          "name": "stdout"
        }
      ]
    },
    {
      "cell_type": "code",
      "metadata": {
        "id": "paTq0q7NycDv",
        "colab_type": "code",
        "outputId": "e15fe447-bcbb-4a7e-c344-373d9a87a6ad",
        "colab": {
          "base_uri": "https://localhost:8080/",
          "height": 153
        }
      },
      "source": [
        "genreArray = np.empty([titles.shape[0],lenGeneres])\n",
        "oldidx = -1\n",
        "for index,row in titles.iterrows():\n",
        "  try:\n",
        "    # create a zeros list\n",
        "    genresVec = np.zeros(lenGeneres)\n",
        "    # get genres\n",
        "    genreTmp = row.Genres.split('|')\n",
        "\n",
        "    for gen in genreTmp: \n",
        "        # get genres index\n",
        "      genID = genreDict[gen]\n",
        "      # assign the corresponding genres index to 1\n",
        "      genresVec[genID] = 1\n",
        "\n",
        "    # put the 0 and 1 vector into a whole matrix representing the genres\n",
        "    genreArray[index] = genresVec\n",
        "\n",
        "  except:  \n",
        "    print(\"found a bad movie\")\n",
        "print(genreArray.shape)\n",
        "print(genreArray)"
      ],
      "execution_count": 12,
      "outputs": [
        {
          "output_type": "stream",
          "text": [
            "(3883, 18)\n",
            "[[0. 1. 0. ... 0. 0. 1.]\n",
            " [0. 1. 1. ... 0. 0. 0.]\n",
            " [0. 0. 0. ... 0. 0. 1.]\n",
            " ...\n",
            " [0. 0. 0. ... 0. 0. 0.]\n",
            " [0. 0. 0. ... 0. 0. 0.]\n",
            " [0. 0. 0. ... 0. 0. 0.]]\n"
          ],
          "name": "stdout"
        }
      ]
    },
    {
      "cell_type": "code",
      "metadata": {
        "id": "91_6NYvVyeyX",
        "colab_type": "code",
        "outputId": "63812144-dcbd-4217-b6ae-17bf3ced2272",
        "colab": {
          "base_uri": "https://localhost:8080/",
          "height": 428
        }
      },
      "source": [
        "print(len(genreArray),titles.shape)\n",
        "\n",
        "df2 = pd.DataFrame(genreArray, dtype=int, columns=list(genreDict.keys()))\n",
        "titles = pd.concat([titles, df2], axis=1)\n",
        "titles.head()"
      ],
      "execution_count": 13,
      "outputs": [
        {
          "output_type": "stream",
          "text": [
            "3883 (3883, 3)\n"
          ],
          "name": "stdout"
        },
        {
          "output_type": "execute_result",
          "data": {
            "text/html": [
              "<div>\n",
              "<style scoped>\n",
              "    .dataframe tbody tr th:only-of-type {\n",
              "        vertical-align: middle;\n",
              "    }\n",
              "\n",
              "    .dataframe tbody tr th {\n",
              "        vertical-align: top;\n",
              "    }\n",
              "\n",
              "    .dataframe thead th {\n",
              "        text-align: right;\n",
              "    }\n",
              "</style>\n",
              "<table border=\"1\" class=\"dataframe\">\n",
              "  <thead>\n",
              "    <tr style=\"text-align: right;\">\n",
              "      <th></th>\n",
              "      <th>MovieID</th>\n",
              "      <th>Title</th>\n",
              "      <th>Genres</th>\n",
              "      <th>Documentary</th>\n",
              "      <th>Children's</th>\n",
              "      <th>Adventure</th>\n",
              "      <th>Film-Noir</th>\n",
              "      <th>Musical</th>\n",
              "      <th>Animation</th>\n",
              "      <th>Romance</th>\n",
              "      <th>Action</th>\n",
              "      <th>Mystery</th>\n",
              "      <th>Western</th>\n",
              "      <th>War</th>\n",
              "      <th>Thriller</th>\n",
              "      <th>Drama</th>\n",
              "      <th>Fantasy</th>\n",
              "      <th>Crime</th>\n",
              "      <th>Sci-Fi</th>\n",
              "      <th>Horror</th>\n",
              "      <th>Comedy</th>\n",
              "    </tr>\n",
              "  </thead>\n",
              "  <tbody>\n",
              "    <tr>\n",
              "      <th>0</th>\n",
              "      <td>1</td>\n",
              "      <td>Toy Story (1995)</td>\n",
              "      <td>Animation|Children's|Comedy</td>\n",
              "      <td>0</td>\n",
              "      <td>1</td>\n",
              "      <td>0</td>\n",
              "      <td>0</td>\n",
              "      <td>0</td>\n",
              "      <td>1</td>\n",
              "      <td>0</td>\n",
              "      <td>0</td>\n",
              "      <td>0</td>\n",
              "      <td>0</td>\n",
              "      <td>0</td>\n",
              "      <td>0</td>\n",
              "      <td>0</td>\n",
              "      <td>0</td>\n",
              "      <td>0</td>\n",
              "      <td>0</td>\n",
              "      <td>0</td>\n",
              "      <td>1</td>\n",
              "    </tr>\n",
              "    <tr>\n",
              "      <th>1</th>\n",
              "      <td>2</td>\n",
              "      <td>Jumanji (1995)</td>\n",
              "      <td>Adventure|Children's|Fantasy</td>\n",
              "      <td>0</td>\n",
              "      <td>1</td>\n",
              "      <td>1</td>\n",
              "      <td>0</td>\n",
              "      <td>0</td>\n",
              "      <td>0</td>\n",
              "      <td>0</td>\n",
              "      <td>0</td>\n",
              "      <td>0</td>\n",
              "      <td>0</td>\n",
              "      <td>0</td>\n",
              "      <td>0</td>\n",
              "      <td>0</td>\n",
              "      <td>1</td>\n",
              "      <td>0</td>\n",
              "      <td>0</td>\n",
              "      <td>0</td>\n",
              "      <td>0</td>\n",
              "    </tr>\n",
              "    <tr>\n",
              "      <th>2</th>\n",
              "      <td>3</td>\n",
              "      <td>Grumpier Old Men (1995)</td>\n",
              "      <td>Comedy|Romance</td>\n",
              "      <td>0</td>\n",
              "      <td>0</td>\n",
              "      <td>0</td>\n",
              "      <td>0</td>\n",
              "      <td>0</td>\n",
              "      <td>0</td>\n",
              "      <td>1</td>\n",
              "      <td>0</td>\n",
              "      <td>0</td>\n",
              "      <td>0</td>\n",
              "      <td>0</td>\n",
              "      <td>0</td>\n",
              "      <td>0</td>\n",
              "      <td>0</td>\n",
              "      <td>0</td>\n",
              "      <td>0</td>\n",
              "      <td>0</td>\n",
              "      <td>1</td>\n",
              "    </tr>\n",
              "    <tr>\n",
              "      <th>3</th>\n",
              "      <td>4</td>\n",
              "      <td>Waiting to Exhale (1995)</td>\n",
              "      <td>Comedy|Drama</td>\n",
              "      <td>0</td>\n",
              "      <td>0</td>\n",
              "      <td>0</td>\n",
              "      <td>0</td>\n",
              "      <td>0</td>\n",
              "      <td>0</td>\n",
              "      <td>0</td>\n",
              "      <td>0</td>\n",
              "      <td>0</td>\n",
              "      <td>0</td>\n",
              "      <td>0</td>\n",
              "      <td>0</td>\n",
              "      <td>1</td>\n",
              "      <td>0</td>\n",
              "      <td>0</td>\n",
              "      <td>0</td>\n",
              "      <td>0</td>\n",
              "      <td>1</td>\n",
              "    </tr>\n",
              "    <tr>\n",
              "      <th>4</th>\n",
              "      <td>5</td>\n",
              "      <td>Father of the Bride Part II (1995)</td>\n",
              "      <td>Comedy</td>\n",
              "      <td>0</td>\n",
              "      <td>0</td>\n",
              "      <td>0</td>\n",
              "      <td>0</td>\n",
              "      <td>0</td>\n",
              "      <td>0</td>\n",
              "      <td>0</td>\n",
              "      <td>0</td>\n",
              "      <td>0</td>\n",
              "      <td>0</td>\n",
              "      <td>0</td>\n",
              "      <td>0</td>\n",
              "      <td>0</td>\n",
              "      <td>0</td>\n",
              "      <td>0</td>\n",
              "      <td>0</td>\n",
              "      <td>0</td>\n",
              "      <td>1</td>\n",
              "    </tr>\n",
              "  </tbody>\n",
              "</table>\n",
              "</div>"
            ],
            "text/plain": [
              "   MovieID                               Title  ... Horror  Comedy\n",
              "0        1                    Toy Story (1995)  ...      0       1\n",
              "1        2                      Jumanji (1995)  ...      0       0\n",
              "2        3             Grumpier Old Men (1995)  ...      0       1\n",
              "3        4            Waiting to Exhale (1995)  ...      0       1\n",
              "4        5  Father of the Bride Part II (1995)  ...      0       1\n",
              "\n",
              "[5 rows x 21 columns]"
            ]
          },
          "metadata": {
            "tags": []
          },
          "execution_count": 13
        }
      ]
    },
    {
      "cell_type": "code",
      "metadata": {
        "id": "psM6Z_Akyk3H",
        "colab_type": "code",
        "outputId": "534eea7a-526a-4975-9cd1-bd1155f9b8b6",
        "colab": {
          "base_uri": "https://localhost:8080/",
          "height": 513
        }
      },
      "source": [
        "train_movies = pd.merge(ratings, titles, on='MovieID')\n",
        "train_movies = train_movies.reindex(np.random.permutation(train_movies.index))\n",
        "test_movies = pd.merge(test, titles, on='MovieID')\n",
        "\n",
        "train = pd.merge(train_movies, users, on='UserID')\n",
        "test = pd.merge(test_movies, users, on='UserID')\n",
        "\n",
        "print(f\"ntotal: {ntrain}\\nntest: {ntest}\")\n",
        "train.head()"
      ],
      "execution_count": 14,
      "outputs": [
        {
          "output_type": "stream",
          "text": [
            "ntotal: 850177\n",
            "ntest: 150032\n"
          ],
          "name": "stdout"
        },
        {
          "output_type": "execute_result",
          "data": {
            "text/html": [
              "<div>\n",
              "<style scoped>\n",
              "    .dataframe tbody tr th:only-of-type {\n",
              "        vertical-align: middle;\n",
              "    }\n",
              "\n",
              "    .dataframe tbody tr th {\n",
              "        vertical-align: top;\n",
              "    }\n",
              "\n",
              "    .dataframe thead th {\n",
              "        text-align: right;\n",
              "    }\n",
              "</style>\n",
              "<table border=\"1\" class=\"dataframe\">\n",
              "  <thead>\n",
              "    <tr style=\"text-align: right;\">\n",
              "      <th></th>\n",
              "      <th>UserID</th>\n",
              "      <th>MovieID</th>\n",
              "      <th>Rating</th>\n",
              "      <th>Title</th>\n",
              "      <th>Genres</th>\n",
              "      <th>Documentary</th>\n",
              "      <th>Children's</th>\n",
              "      <th>Adventure</th>\n",
              "      <th>Film-Noir</th>\n",
              "      <th>Musical</th>\n",
              "      <th>Animation</th>\n",
              "      <th>Romance</th>\n",
              "      <th>Action</th>\n",
              "      <th>Mystery</th>\n",
              "      <th>Western</th>\n",
              "      <th>War</th>\n",
              "      <th>Thriller</th>\n",
              "      <th>Drama</th>\n",
              "      <th>Fantasy</th>\n",
              "      <th>Crime</th>\n",
              "      <th>Sci-Fi</th>\n",
              "      <th>Horror</th>\n",
              "      <th>Comedy</th>\n",
              "      <th>Gender</th>\n",
              "      <th>Age</th>\n",
              "      <th>Occupation</th>\n",
              "      <th>Zip Code</th>\n",
              "    </tr>\n",
              "  </thead>\n",
              "  <tbody>\n",
              "    <tr>\n",
              "      <th>0</th>\n",
              "      <td>2947.0</td>\n",
              "      <td>770.0</td>\n",
              "      <td>4.0</td>\n",
              "      <td>Costa Brava (1946)</td>\n",
              "      <td>Drama</td>\n",
              "      <td>0</td>\n",
              "      <td>0</td>\n",
              "      <td>0</td>\n",
              "      <td>0</td>\n",
              "      <td>0</td>\n",
              "      <td>0</td>\n",
              "      <td>0</td>\n",
              "      <td>0</td>\n",
              "      <td>0</td>\n",
              "      <td>0</td>\n",
              "      <td>0</td>\n",
              "      <td>0</td>\n",
              "      <td>1</td>\n",
              "      <td>0</td>\n",
              "      <td>0</td>\n",
              "      <td>0</td>\n",
              "      <td>0</td>\n",
              "      <td>0</td>\n",
              "      <td>F</td>\n",
              "      <td>25</td>\n",
              "      <td>0</td>\n",
              "      <td>02138</td>\n",
              "    </tr>\n",
              "    <tr>\n",
              "      <th>1</th>\n",
              "      <td>2947.0</td>\n",
              "      <td>200.0</td>\n",
              "      <td>3.5</td>\n",
              "      <td>Tie That Binds, The (1995)</td>\n",
              "      <td>Thriller</td>\n",
              "      <td>0</td>\n",
              "      <td>0</td>\n",
              "      <td>0</td>\n",
              "      <td>0</td>\n",
              "      <td>0</td>\n",
              "      <td>0</td>\n",
              "      <td>0</td>\n",
              "      <td>0</td>\n",
              "      <td>0</td>\n",
              "      <td>0</td>\n",
              "      <td>0</td>\n",
              "      <td>1</td>\n",
              "      <td>0</td>\n",
              "      <td>0</td>\n",
              "      <td>0</td>\n",
              "      <td>0</td>\n",
              "      <td>0</td>\n",
              "      <td>0</td>\n",
              "      <td>F</td>\n",
              "      <td>25</td>\n",
              "      <td>0</td>\n",
              "      <td>02138</td>\n",
              "    </tr>\n",
              "    <tr>\n",
              "      <th>2</th>\n",
              "      <td>2947.0</td>\n",
              "      <td>1198.0</td>\n",
              "      <td>3.5</td>\n",
              "      <td>Raiders of the Lost Ark (1981)</td>\n",
              "      <td>Action|Adventure</td>\n",
              "      <td>0</td>\n",
              "      <td>0</td>\n",
              "      <td>1</td>\n",
              "      <td>0</td>\n",
              "      <td>0</td>\n",
              "      <td>0</td>\n",
              "      <td>0</td>\n",
              "      <td>1</td>\n",
              "      <td>0</td>\n",
              "      <td>0</td>\n",
              "      <td>0</td>\n",
              "      <td>0</td>\n",
              "      <td>0</td>\n",
              "      <td>0</td>\n",
              "      <td>0</td>\n",
              "      <td>0</td>\n",
              "      <td>0</td>\n",
              "      <td>0</td>\n",
              "      <td>F</td>\n",
              "      <td>25</td>\n",
              "      <td>0</td>\n",
              "      <td>02138</td>\n",
              "    </tr>\n",
              "    <tr>\n",
              "      <th>3</th>\n",
              "      <td>2947.0</td>\n",
              "      <td>1316.0</td>\n",
              "      <td>3.5</td>\n",
              "      <td>Anna (1996)</td>\n",
              "      <td>Drama</td>\n",
              "      <td>0</td>\n",
              "      <td>0</td>\n",
              "      <td>0</td>\n",
              "      <td>0</td>\n",
              "      <td>0</td>\n",
              "      <td>0</td>\n",
              "      <td>0</td>\n",
              "      <td>0</td>\n",
              "      <td>0</td>\n",
              "      <td>0</td>\n",
              "      <td>0</td>\n",
              "      <td>0</td>\n",
              "      <td>1</td>\n",
              "      <td>0</td>\n",
              "      <td>0</td>\n",
              "      <td>0</td>\n",
              "      <td>0</td>\n",
              "      <td>0</td>\n",
              "      <td>F</td>\n",
              "      <td>25</td>\n",
              "      <td>0</td>\n",
              "      <td>02138</td>\n",
              "    </tr>\n",
              "    <tr>\n",
              "      <th>4</th>\n",
              "      <td>2947.0</td>\n",
              "      <td>1126.0</td>\n",
              "      <td>4.0</td>\n",
              "      <td>Drop Dead Fred (1991)</td>\n",
              "      <td>Comedy|Fantasy</td>\n",
              "      <td>0</td>\n",
              "      <td>0</td>\n",
              "      <td>0</td>\n",
              "      <td>0</td>\n",
              "      <td>0</td>\n",
              "      <td>0</td>\n",
              "      <td>0</td>\n",
              "      <td>0</td>\n",
              "      <td>0</td>\n",
              "      <td>0</td>\n",
              "      <td>0</td>\n",
              "      <td>0</td>\n",
              "      <td>0</td>\n",
              "      <td>1</td>\n",
              "      <td>0</td>\n",
              "      <td>0</td>\n",
              "      <td>0</td>\n",
              "      <td>1</td>\n",
              "      <td>F</td>\n",
              "      <td>25</td>\n",
              "      <td>0</td>\n",
              "      <td>02138</td>\n",
              "    </tr>\n",
              "  </tbody>\n",
              "</table>\n",
              "</div>"
            ],
            "text/plain": [
              "   UserID  MovieID  Rating  ... Age Occupation  Zip Code\n",
              "0  2947.0    770.0     4.0  ...  25          0     02138\n",
              "1  2947.0    200.0     3.5  ...  25          0     02138\n",
              "2  2947.0   1198.0     3.5  ...  25          0     02138\n",
              "3  2947.0   1316.0     3.5  ...  25          0     02138\n",
              "4  2947.0   1126.0     4.0  ...  25          0     02138\n",
              "\n",
              "[5 rows x 27 columns]"
            ]
          },
          "metadata": {
            "tags": []
          },
          "execution_count": 14
        }
      ]
    },
    {
      "cell_type": "code",
      "metadata": {
        "id": "Io91uGk2bVL9",
        "colab_type": "code",
        "colab": {}
      },
      "source": [
        "total_mtx = train.append(test)\n",
        "user_means = total_mtx.groupby('UserID')['Rating'].mean()\n",
        "movie_means = total_mtx.groupby('MovieID')['Rating'].mean()\n",
        "\n",
        "train['user_mean'] = pd.DataFrame(user_means[train['UserID']]).reset_index().drop('UserID',axis=1)\n",
        "train['movie_mean'] = pd.DataFrame(movie_means[train['MovieID']]).reset_index().drop('MovieID',axis=1)\n",
        "\n",
        "test['user_mean'] = pd.DataFrame(user_means[test['UserID']]).reset_index().drop('UserID',axis=1)\n",
        "test['movie_mean'] = pd.DataFrame(movie_means[test['MovieID']]).reset_index().drop('MovieID',axis=1)\n"
      ],
      "execution_count": 0,
      "outputs": []
    },
    {
      "cell_type": "code",
      "metadata": {
        "id": "owxAdK170NcA",
        "colab_type": "code",
        "colab": {}
      },
      "source": [
        "train['Male'] = 0 \n",
        "train['Female'] = 0\n",
        "\n",
        "train['Male'][train.Gender == 'M'] = 1\n",
        "train['Female'][train.Gender == 'F'] = 1\n",
        "\n",
        "test['Male'] = 0 \n",
        "test['Female'] = 0\n",
        "\n",
        "test['Male'][test.Gender == 'M'] = 1\n",
        "test['Female'][test.Gender == 'F'] = 1"
      ],
      "execution_count": 0,
      "outputs": []
    },
    {
      "cell_type": "code",
      "metadata": {
        "id": "gEyb8-0sbUXG",
        "colab_type": "code",
        "colab": {}
      },
      "source": [
        "\n",
        "# OLS prediction\n",
        "from sklearn.linear_model import Ridge,LinearRegression\n",
        "\n",
        "def run_ridge(xtrain,ytrain,xtest,ytest):\n",
        "  ridge = Ridge(alpha = 0.1, normalize = True, fit_intercept = True)\n",
        "  ridge.fit(xtrain, ytrain) \n",
        "  print(\"RIDGE\")\n",
        "  pred_train = ridge.predict(xtrain)\n",
        "  print(\"Train MAE:\", MAE(pred_train, ytrain))\n",
        "  pred_test = ridge.predict(xtest)\n",
        "  print(\"Test MAE:\", MAE(pred_test, ytest))\n",
        "\n",
        "\n",
        "  print(\"\\nRounded\")\n",
        "  pred_train = np.round(2*ridge.predict(xtrain))/2 \n",
        "  print(\"Train MAE:\", MAE(pred_train, ytrain))\n",
        "  pred_test = np.round(2*ridge.predict(xtest))/2 \n",
        "  print(\"Test MAE:\", MAE(pred_test, ytest))\n",
        "  print()\n",
        "  \n",
        "def run_ols(xtrain,ytrain,xtest,ytest):\n",
        "  ols = LinearRegression(normalize = True, fit_intercept = True)\n",
        "  ols.fit(xtrain, ytrain)\n",
        "  print(\"OLS\")\n",
        "  pred_train = ols.predict(xtrain)\n",
        "  print(\"Train MAE:\", MAE(pred_train, ytrain))\n",
        "  pred_test = ols.predict(xtest)\n",
        "  print(\"Test MAE:\", MAE(pred_test, ytest))\n",
        "\n",
        "\n",
        "  print(\"\\nRounded\")\n",
        "  pred_train = np.round(2*ols.predict(xtrain))/2 \n",
        "  print(\"Train MAE:\", MAE(pred_train, ytrain))\n",
        "  pred_test = np.round(2*ols.predict(xtest))/2 \n",
        "  print(\"Test MAE:\", MAE(pred_test, ytest))\n",
        "  print()"
      ],
      "execution_count": 0,
      "outputs": []
    },
    {
      "cell_type": "code",
      "metadata": {
        "id": "XckUZOXsdJZD",
        "colab_type": "code",
        "colab": {
          "base_uri": "https://localhost:8080/",
          "height": 935
        },
        "outputId": "e812c87b-1748-4cad-c91a-991763d048b3"
      },
      "source": [
        "from sklearn.metrics import mean_absolute_error as MAE\n",
        "\n",
        "ytrain = train['Rating']\n",
        "ytest = test['Rating']\n",
        "\n",
        "print(\"Without adding means to the features\")\n",
        "Features = ['Age', 'Occupation', 'Male', 'Female'] + list(genreDict.keys())\n",
        "xtrain = train[Features]\n",
        "xtest = test[Features]\n",
        "run_ols(xtrain,ytrain,xtest,ytest)\n",
        "run_ridge(xtrain,ytrain,xtest,ytest)\n",
        "print()\n",
        "\n",
        "print(\"Adding user means to the features\")\n",
        "Features_user = deepcopy(Features)\n",
        "Features_user.append('user_mean')\n",
        "xtrain = train[Features_user]\n",
        "xtest = test[Features_user]\n",
        "run_ols(xtrain,ytrain,xtest,ytest)\n",
        "run_ridge(xtrain,ytrain,xtest,ytest)\n",
        "print()\n",
        "\n",
        "print(\"Adding both user and movie means to the features\")\n",
        "Features_both = deepcopy(Features_user)\n",
        "Features_both.append('movie_mean')\n",
        "xtrain = train[Features_both]\n",
        "xtest = test[Features_both]\n",
        "run_ols(xtrain,ytrain,xtest,ytest)\n",
        "run_ridge(xtrain,ytrain,xtest,ytest)\n",
        "print()"
      ],
      "execution_count": 25,
      "outputs": [
        {
          "output_type": "stream",
          "text": [
            "Without adding means to the features\n",
            "OLS\n",
            "Train MAE: 0.4019376167325683\n",
            "Test MAE: 0.959047697367693\n",
            "\n",
            "Rounded\n",
            "Train MAE: 0.3749540466433069\n",
            "Test MAE: 0.9470446304788311\n",
            "\n",
            "RIDGE\n",
            "Train MAE: 0.40180302560036685\n",
            "Test MAE: 0.9591430466264325\n",
            "\n",
            "Rounded\n",
            "Train MAE: 0.3749540466433069\n",
            "Test MAE: 0.9470446304788311\n",
            "\n",
            "\n",
            "Adding user means to the features\n",
            "OLS\n",
            "Train MAE: 0.3761185026104795\n",
            "Test MAE: 0.8822375717172112\n",
            "\n",
            "Rounded\n",
            "Train MAE: 0.35788353507011644\n",
            "Test MAE: 0.8774961341580463\n",
            "\n",
            "RIDGE\n",
            "Train MAE: 0.3754656282690265\n",
            "Test MAE: 0.8842170599621513\n",
            "\n",
            "Rounded\n",
            "Train MAE: 0.357832847125158\n",
            "Test MAE: 0.8794190572677829\n",
            "\n",
            "\n",
            "Adding both user and movie means to the features\n",
            "OLS\n",
            "Train MAE: 0.16576591654047257\n",
            "Test MAE: 0.8400076584125921\n",
            "\n",
            "Rounded\n",
            "Train MAE: 0.07110469641448702\n",
            "Test MAE: 0.8322024634744588\n",
            "\n",
            "RIDGE\n",
            "Train MAE: 0.16795426113463838\n",
            "Test MAE: 0.8356573610677058\n",
            "\n",
            "Rounded\n",
            "Train MAE: 0.08112995497870736\n",
            "Test MAE: 0.8284765916604457\n",
            "\n",
            "\n"
          ],
          "name": "stdout"
        }
      ]
    },
    {
      "cell_type": "code",
      "metadata": {
        "id": "_hkDc1b-1cOZ",
        "colab_type": "code",
        "colab": {}
      },
      "source": [
        "#Create train and test data \n",
        "# from sklearn.metrics import mean_absolute_error as MAE\n",
        "\n",
        "# Features = ['UserID', 'MovieID', 'Age', 'Occupation', 'Male', 'Female'] + list(genreDict.keys())\n",
        "# xtrain = train[Features]\n",
        "# ytrain = train['Rating']\n",
        "\n",
        "# xtest = test[Features]\n",
        "# ytest = test['Rating']"
      ],
      "execution_count": 0,
      "outputs": []
    },
    {
      "cell_type": "code",
      "metadata": {
        "id": "vNLwBth74-sV",
        "colab_type": "code",
        "outputId": "9a56a5fe-4e7f-4055-f13e-014fa6326bd3",
        "colab": {
          "base_uri": "https://localhost:8080/",
          "height": 136
        }
      },
      "source": [
        "# # OLS prediction\n",
        "# from sklearn.linear_model  import LinearRegression\n",
        "# ols = LinearRegression(normalize = True, fit_intercept = True)\n",
        "# ols.fit(xtrain, ytrain)\n",
        "\n",
        "# print(\"Normal\")\n",
        "# pred_train = ols.predict(xtrain)\n",
        "# print(\"Train MAE:\", MAE(pred_train, ytrain))\n",
        "# pred_test = ols.predict(xtest)\n",
        "# print(\"Test MAE:\", MAE(pred_test, ytest))\n",
        "\n",
        "\n",
        "# print(\"\\nRounded\")\n",
        "# pred_train = np.round(2*ols.predict(xtrain))/2 \n",
        "# print(\"Train MAE:\", MAE(pred_train, ytrain))\n",
        "# pred_test = np.round(2*ols.predict(xtest))/2 \n",
        "# print(\"Test MAE:\", MAE(pred_test, ytest))"
      ],
      "execution_count": 0,
      "outputs": [
        {
          "output_type": "stream",
          "text": [
            "Normal\n",
            "Train MAE: 0.40184463012028604\n",
            "Test MAE: 0.9583020618605922\n",
            "\n",
            "Rounded\n",
            "Train MAE: 0.3749540466433069\n",
            "Test MAE: 0.9470446304788311\n"
          ],
          "name": "stdout"
        }
      ]
    },
    {
      "cell_type": "code",
      "metadata": {
        "id": "Ikbgnei9QyiO",
        "colab_type": "code",
        "outputId": "db7deb76-f58b-4832-d825-430bf49ae358",
        "colab": {
          "base_uri": "https://localhost:8080/",
          "height": 136
        }
      },
      "source": [
        "# # Ridge prediction\n",
        "# from sklearn.linear_model import Ridge\n",
        "# ridge = Ridge(alpha = 0.1, normalize = True, fit_intercept = True)\n",
        "# ridge.fit(xtrain, ytrain) \n",
        "\n",
        "# print(\"Normal\")\n",
        "# pred_train = ridge.predict(xtrain)\n",
        "# print(\"Train MAE:\", MAE(pred_train, ytrain))\n",
        "# pred_test = ridge.predict(xtest)\n",
        "# print(\"Train MAE:\", MAE(pred_test, ytest))\n",
        "\n",
        "\n",
        "# print(\"\\nRounded\")\n",
        "# pred_train = np.round(2*ridge.predict(xtrain))/2 \n",
        "# print(\"Train MAE:\", MAE(pred_train, ytrain))\n",
        "# pred_test = np.round(2*ridge.predict(xtest))/2 \n",
        "# print(\"Train MAE:\", MAE(pred_test, ytest))"
      ],
      "execution_count": 0,
      "outputs": [
        {
          "output_type": "stream",
          "text": [
            "Normal\n",
            "Train MAE: 0.4017154720569402\n",
            "Train MAE: 0.9584666447200193\n",
            "\n",
            "Rounded\n",
            "Train MAE: 0.3749540466433069\n",
            "Train MAE: 0.9470446304788311\n"
          ],
          "name": "stdout"
        }
      ]
    },
    {
      "cell_type": "code",
      "metadata": {
        "id": "wYvKwhOU5CX-",
        "colab_type": "code",
        "colab": {}
      },
      "source": [
        "# # Ridge prediction\n",
        "# from sklearn.linear_model import Ridge\n",
        "# from sklearn.metrics import mean_absolute_error as MAE\n",
        "\n",
        "# mae_train = []\n",
        "# mae_test= []\n",
        "# alphas = np.linspace(0, 2, num=20)\n",
        "# for a in alphas:\n",
        "#   ridge = Ridge(alpha = a, normalize = True, fit_intercept = True)\n",
        "#   ridge.fit(xtrain, ytrain) \n",
        "\n",
        "#   pred_train = ridge.predict(xtrain)\n",
        "#   pred_test = ridge.predict(xtest)\n",
        "\n",
        "#   mae_train.append(np.min(MAE(pred_train, ytrain)))\n",
        "#   mae_test.append(np.min(MAE(pred_test, ytest)))\n"
      ],
      "execution_count": 0,
      "outputs": []
    },
    {
      "cell_type": "code",
      "metadata": {
        "id": "-yeV-ADb6CYZ",
        "colab_type": "code",
        "outputId": "32322b62-b39c-41c6-c33c-32b3af410183",
        "colab": {
          "base_uri": "https://localhost:8080/",
          "height": 590
        }
      },
      "source": [
        "plt.figure()\n",
        "plt.plot(alphas, mae_train)\n",
        "plt.xlabel('lambda')\n",
        "plt.ylabel('Train MAE')\n",
        "plt.title(\"Train MAE vs Regularization Parameter\")\n",
        "\n",
        "plt.figure()\n",
        "plt.plot(alphas, mae_test)\n",
        "plt.xlabel('lambda')\n",
        "plt.ylabel('Test MAE')\n",
        "plt.title(\"Test MAE vs Regularization Parameter\")\n",
        "\n",
        "print()"
      ],
      "execution_count": 0,
      "outputs": [
        {
          "output_type": "stream",
          "text": [
            "\n"
          ],
          "name": "stdout"
        },
        {
          "output_type": "display_data",
          "data": {
            "image/png": "[encoded data removed]",
            "text/plain": [
              "<Figure size 432x288 with 1 Axes>"
            ]
          },
          "metadata": {
            "tags": []
          }
        },
        {
          "output_type": "display_data",
          "data": {
            "image/png": "[encoded data removed]",
            "text/plain": [
              "<Figure size 432x288 with 1 Axes>"
            ]
          },
          "metadata": {
            "tags": []
          }
        }
      ]
    }
  ]
}