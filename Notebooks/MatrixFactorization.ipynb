{
  "nbformat": 4,
  "nbformat_minor": 0,
  "metadata": {
    "colab": {
      "name": "MatrixFactorization.ipynb",
      "provenance": [],
      "collapsed_sections": []
    },
    "kernelspec": {
      "name": "python3",
      "display_name": "Python 3"
    },
    "accelerator": "GPU"
  },
  "cells": [
    {
      "cell_type": "markdown",
      "metadata": {
        "id": "cHEGbNU_RYhW",
        "colab_type": "text"
      },
      "source": [
        "## Loading and Preparing Data "
      ]
    },
    {
      "cell_type": "code",
      "metadata": {
        "id": "6Kip6JfFFSao",
        "colab_type": "code",
        "outputId": "2a42fa1a-6fbe-4cc4-a3b7-ba49e142d2be",
        "colab": {
          "base_uri": "https://localhost:8080/",
          "height": 251
        }
      },
      "source": [
        "import pandas as pd\n",
        "import numpy as np\n",
        "from copy import deepcopy \n",
        "from matplotlib import pyplot as plt\n",
        "import warnings\n",
        "\n",
        "warnings.filterwarnings('ignore')\n",
        "\n",
        "# Trainng Samples loaded from Github Repo\n",
        "ratings_path = 'https://raw.githubusercontent.com/usef-kh/EC503Project/master/Datasets/ml-1m/ratings.dat'\n",
        "titles_path = 'https://raw.githubusercontent.com/usef-kh/EC503Project/master/Datasets/ml-1m/movies.dat'\n",
        "\n",
        "ratings = pd.read_csv(ratings_path, sep  = \"::\", names = ['UserID', 'MovieID', 'Rating', 'Timestamp'])\n",
        "titles = pd.read_csv(titles_path, sep = \"::\", names = ['MovieID', 'Title', 'Genres'], encoding ='latin-1')\n",
        "data = pd.merge(ratings, titles, on='MovieID')\n",
        "\n",
        "ntotal = data.shape[0]\n",
        "ntrain = int(np.floor(ntotal*0.85))\n",
        "ntest = ntotal - ntrain\n",
        "\n",
        "print(f\"ntotal: {ntotal}\\nntrain: {ntrain}\\nntest: {ntest}\")\n",
        "\n",
        "data.head()"
      ],
      "execution_count": 1,
      "outputs": [
        {
          "output_type": "stream",
          "text": [
            "ntotal: 1000209\n",
            "ntrain: 850177\n",
            "ntest: 150032\n"
          ],
          "name": "stdout"
        },
        {
          "output_type": "execute_result",
          "data": {
            "text/html": [
              "<div>\n",
              "<style scoped>\n",
              "    .dataframe tbody tr th:only-of-type {\n",
              "        vertical-align: middle;\n",
              "    }\n",
              "\n",
              "    .dataframe tbody tr th {\n",
              "        vertical-align: top;\n",
              "    }\n",
              "\n",
              "    .dataframe thead th {\n",
              "        text-align: right;\n",
              "    }\n",
              "</style>\n",
              "<table border=\"1\" class=\"dataframe\">\n",
              "  <thead>\n",
              "    <tr style=\"text-align: right;\">\n",
              "      <th></th>\n",
              "      <th>UserID</th>\n",
              "      <th>MovieID</th>\n",
              "      <th>Rating</th>\n",
              "      <th>Timestamp</th>\n",
              "      <th>Title</th>\n",
              "      <th>Genres</th>\n",
              "    </tr>\n",
              "  </thead>\n",
              "  <tbody>\n",
              "    <tr>\n",
              "      <th>0</th>\n",
              "      <td>1</td>\n",
              "      <td>1193</td>\n",
              "      <td>5</td>\n",
              "      <td>978300760</td>\n",
              "      <td>One Flew Over the Cuckoo's Nest (1975)</td>\n",
              "      <td>Drama</td>\n",
              "    </tr>\n",
              "    <tr>\n",
              "      <th>1</th>\n",
              "      <td>2</td>\n",
              "      <td>1193</td>\n",
              "      <td>5</td>\n",
              "      <td>978298413</td>\n",
              "      <td>One Flew Over the Cuckoo's Nest (1975)</td>\n",
              "      <td>Drama</td>\n",
              "    </tr>\n",
              "    <tr>\n",
              "      <th>2</th>\n",
              "      <td>12</td>\n",
              "      <td>1193</td>\n",
              "      <td>4</td>\n",
              "      <td>978220179</td>\n",
              "      <td>One Flew Over the Cuckoo's Nest (1975)</td>\n",
              "      <td>Drama</td>\n",
              "    </tr>\n",
              "    <tr>\n",
              "      <th>3</th>\n",
              "      <td>15</td>\n",
              "      <td>1193</td>\n",
              "      <td>4</td>\n",
              "      <td>978199279</td>\n",
              "      <td>One Flew Over the Cuckoo's Nest (1975)</td>\n",
              "      <td>Drama</td>\n",
              "    </tr>\n",
              "    <tr>\n",
              "      <th>4</th>\n",
              "      <td>17</td>\n",
              "      <td>1193</td>\n",
              "      <td>5</td>\n",
              "      <td>978158471</td>\n",
              "      <td>One Flew Over the Cuckoo's Nest (1975)</td>\n",
              "      <td>Drama</td>\n",
              "    </tr>\n",
              "  </tbody>\n",
              "</table>\n",
              "</div>"
            ],
            "text/plain": [
              "   UserID  MovieID  ...                                   Title  Genres\n",
              "0       1     1193  ...  One Flew Over the Cuckoo's Nest (1975)   Drama\n",
              "1       2     1193  ...  One Flew Over the Cuckoo's Nest (1975)   Drama\n",
              "2      12     1193  ...  One Flew Over the Cuckoo's Nest (1975)   Drama\n",
              "3      15     1193  ...  One Flew Over the Cuckoo's Nest (1975)   Drama\n",
              "4      17     1193  ...  One Flew Over the Cuckoo's Nest (1975)   Drama\n",
              "\n",
              "[5 rows x 6 columns]"
            ]
          },
          "metadata": {
            "tags": []
          },
          "execution_count": 1
        }
      ]
    },
    {
      "cell_type": "markdown",
      "metadata": {
        "id": "3e_hqHjJRlfk",
        "colab_type": "text"
      },
      "source": [
        "### Suffling dataset and splitting into test, train, and valiation"
      ]
    },
    {
      "cell_type": "code",
      "metadata": {
        "id": "l8RJHXWiaGz8",
        "colab_type": "code",
        "outputId": "6eb2298f-fe6e-4956-d448-b005d040252f",
        "colab": {
          "base_uri": "https://localhost:8080/",
          "height": 233
        }
      },
      "source": [
        "np.random.seed(42)\n",
        "shuffled_data = data.reindex(np.random.permutation(data.index))\n",
        "\n",
        "train = deepcopy(shuffled_data)\n",
        "test = deepcopy(shuffled_data)\n",
        "\n",
        "train['Rating'][ntrain:] = -1\n",
        "test['Rating'][:ntrain] = -1\n",
        "\n",
        "train_mtx = train.pivot_table(index='UserID', columns='Title', values='Rating')\n",
        "test_mtx = test.pivot_table(index='UserID', columns='Title', values='Rating')\n",
        "\n",
        "train_mtx = train_mtx.values\n",
        "test_mtx = test_mtx.values\n",
        "\n",
        "\n",
        "train_mtx[train_mtx == -1] = np.nan\n",
        "test_mtx[test_mtx == -1] = np.nan\n",
        "\n",
        "train_select = ~(np.isnan(train_mtx))\n",
        "test_select = ~(np.isnan(test_mtx))\n",
        "\n",
        "user_means = np.nanmean(train_mtx, axis = 0)\n",
        "movie_means = np.nanmean(train_mtx, axis = 1)\n",
        "\n",
        "print(np.shape(test_mtx), np.shape(train_mtx))\n",
        "print(np.shape(test_select), np.shape(train_select))\n",
        "\n",
        "train.head()"
      ],
      "execution_count": 79,
      "outputs": [
        {
          "output_type": "stream",
          "text": [
            "(6040, 3706) (6040, 3706)\n",
            "(6040, 3706) (6040, 3706)\n"
          ],
          "name": "stdout"
        },
        {
          "output_type": "execute_result",
          "data": {
            "text/html": [
              "<div>\n",
              "<style scoped>\n",
              "    .dataframe tbody tr th:only-of-type {\n",
              "        vertical-align: middle;\n",
              "    }\n",
              "\n",
              "    .dataframe tbody tr th {\n",
              "        vertical-align: top;\n",
              "    }\n",
              "\n",
              "    .dataframe thead th {\n",
              "        text-align: right;\n",
              "    }\n",
              "</style>\n",
              "<table border=\"1\" class=\"dataframe\">\n",
              "  <thead>\n",
              "    <tr style=\"text-align: right;\">\n",
              "      <th></th>\n",
              "      <th>UserID</th>\n",
              "      <th>MovieID</th>\n",
              "      <th>Rating</th>\n",
              "      <th>Timestamp</th>\n",
              "      <th>Title</th>\n",
              "      <th>Genres</th>\n",
              "    </tr>\n",
              "  </thead>\n",
              "  <tbody>\n",
              "    <tr>\n",
              "      <th>895536</th>\n",
              "      <td>5755</td>\n",
              "      <td>184</td>\n",
              "      <td>3</td>\n",
              "      <td>958280246</td>\n",
              "      <td>Nadja (1994)</td>\n",
              "      <td>Drama</td>\n",
              "    </tr>\n",
              "    <tr>\n",
              "      <th>899739</th>\n",
              "      <td>4585</td>\n",
              "      <td>519</td>\n",
              "      <td>3</td>\n",
              "      <td>964321944</td>\n",
              "      <td>Robocop 3 (1993)</td>\n",
              "      <td>Sci-Fi|Thriller</td>\n",
              "    </tr>\n",
              "    <tr>\n",
              "      <th>55687</th>\n",
              "      <td>1503</td>\n",
              "      <td>3114</td>\n",
              "      <td>4</td>\n",
              "      <td>974762175</td>\n",
              "      <td>Toy Story 2 (1999)</td>\n",
              "      <td>Animation|Children's|Comedy</td>\n",
              "    </tr>\n",
              "    <tr>\n",
              "      <th>63727</th>\n",
              "      <td>2166</td>\n",
              "      <td>648</td>\n",
              "      <td>4</td>\n",
              "      <td>974614593</td>\n",
              "      <td>Mission: Impossible (1996)</td>\n",
              "      <td>Action|Adventure|Mystery</td>\n",
              "    </tr>\n",
              "    <tr>\n",
              "      <th>822011</th>\n",
              "      <td>3201</td>\n",
              "      <td>2178</td>\n",
              "      <td>5</td>\n",
              "      <td>968626301</td>\n",
              "      <td>Frenzy (1972)</td>\n",
              "      <td>Thriller</td>\n",
              "    </tr>\n",
              "  </tbody>\n",
              "</table>\n",
              "</div>"
            ],
            "text/plain": [
              "        UserID  ...                       Genres\n",
              "895536    5755  ...                        Drama\n",
              "899739    4585  ...              Sci-Fi|Thriller\n",
              "55687     1503  ...  Animation|Children's|Comedy\n",
              "63727     2166  ...     Action|Adventure|Mystery\n",
              "822011    3201  ...                     Thriller\n",
              "\n",
              "[5 rows x 6 columns]"
            ]
          },
          "metadata": {
            "tags": []
          },
          "execution_count": 79
        }
      ]
    },
    {
      "cell_type": "code",
      "metadata": {
        "id": "TFbyQ4YkLNKa",
        "colab_type": "code",
        "colab": {
          "base_uri": "https://localhost:8080/",
          "height": 52
        },
        "outputId": "130c7eed-ebed-43d2-d6ae-c4d8366c76e1"
      },
      "source": [
        "um = np.nanmean(user_means, axis = 0)\n",
        "mm = np.nanmean(movie_means, axis = 0)\n",
        "\n",
        "unan = np.argwhere(np.isnan(user_means))\n",
        "mnan = np.argwhere(np.isnan(movie_means))\n",
        "\n",
        "movie_means[mnan] = mm\n",
        "user_means[unan] = um\n",
        "\n",
        "\n",
        "print(user_means)\n",
        "print(movie_means)\n"
      ],
      "execution_count": 80,
      "outputs": [
        {
          "output_type": "stream",
          "text": [
            "[3.03030303 3.35       2.75       ... 3.2407125  2.57142857 3.24928367]\n",
            "[4.17021277 3.7027027  3.91111111 ... 3.5625     3.87378641 3.5970696 ]\n"
          ],
          "name": "stdout"
        }
      ]
    },
    {
      "cell_type": "code",
      "metadata": {
        "id": "7qPtE4xzSJO_",
        "colab_type": "code",
        "colab": {}
      },
      "source": [
        "[m,u] = train_mtx.shape\n",
        "\n",
        "for i in range(m):\n",
        "  for j in range(u):\n",
        "    if(np.isnan(train_mtx[i,j])):\n",
        "      train_mtx[i,j] = (user_means[j] + movie_means[i])/2\n",
        " "
      ],
      "execution_count": 0,
      "outputs": []
    },
    {
      "cell_type": "code",
      "metadata": {
        "id": "F0LiYB2QLQXg",
        "colab_type": "code",
        "colab": {
          "base_uri": "https://localhost:8080/",
          "height": 247
        },
        "outputId": "397429d5-6f90-4a49-ef5e-c6dfcc9ea74d"
      },
      "source": [
        "train_mtx"
      ],
      "execution_count": 84,
      "outputs": [
        {
          "output_type": "execute_result",
          "data": {
            "text/plain": [
              "array([[3.6002579 , 3.76010638, 3.46010638, ..., 3.70546263, 3.37082067,\n",
              "        3.70974822],\n",
              "       [3.36650287, 3.52635135, 3.22635135, ..., 3.4717076 , 3.13706564,\n",
              "        3.47599319],\n",
              "       [3.47070707, 3.63055556, 3.33055556, ..., 3.5759118 , 3.24126984,\n",
              "        3.58019739],\n",
              "       ...,\n",
              "       [3.29640152, 3.45625   , 3.15625   , ..., 3.40160625, 3.06696429,\n",
              "        3.40589183],\n",
              "       [3.45204472, 3.6118932 , 3.3118932 , ..., 3.55724945, 3.22260749,\n",
              "        3.56153504],\n",
              "       [3.31368631, 3.4735348 , 3.1735348 , ..., 3.41889105, 3.08424908,\n",
              "        3.42317663]])"
            ]
          },
          "metadata": {
            "tags": []
          },
          "execution_count": 84
        }
      ]
    },
    {
      "cell_type": "markdown",
      "metadata": {
        "id": "fziIHjrmBM6A",
        "colab_type": "text"
      },
      "source": [
        "#### Obtaining MAE on test set after filling movie means only to compare with performance of SVD "
      ]
    },
    {
      "cell_type": "code",
      "metadata": {
        "id": "dP1CF-cWBMLu",
        "colab_type": "code",
        "outputId": "7f52c23d-b471-41cf-cfef-149fdac5adc8",
        "colab": {
          "base_uri": "https://localhost:8080/",
          "height": 52
        }
      },
      "source": [
        "from sklearn.metrics import mean_absolute_error as mae\n",
        "\n",
        "result = train_mtx[test_select].flatten()\n",
        "ground_truth = test_mtx[test_select].flatten()\n",
        "\n",
        "print(\"MAE by only filling mean value:\")\n",
        "print(mae(result,ground_truth))"
      ],
      "execution_count": 85,
      "outputs": [
        {
          "output_type": "stream",
          "text": [
            "MAE by only filling mean value:\n",
            "0.7712933153690582\n"
          ],
          "name": "stdout"
        }
      ]
    },
    {
      "cell_type": "markdown",
      "metadata": {
        "id": "1FZIYxVzS3le",
        "colab_type": "text"
      },
      "source": [
        "## Implementing Matrix Factorization using SVD"
      ]
    },
    {
      "cell_type": "markdown",
      "metadata": {
        "id": "xi2Hd_n2TUif",
        "colab_type": "text"
      },
      "source": [
        "### Tuning hyperparameters using hold out validation\n",
        "#### SVD essentially performs dimention reduction through selecting the rank of the resultant matricies, specifically Sigma.\n",
        "\n",
        "#### On a high level of understanding:\n",
        "#### - U corresponds to the users' features\n",
        "#### - V' captures movies' features. \n",
        "\n",
        "#### Obviously, the higher the rank, the more information is perserved during the reduction. However, the larger its value, the less we are learning the actual data and the more we are overfitting the training set. For this, we will be corss validating our results and minimizing the mse over a validation set to tune the value of k."
      ]
    },
    {
      "cell_type": "code",
      "metadata": {
        "id": "wx9XNFVHmxFv",
        "colab_type": "code",
        "colab": {}
      },
      "source": [
        "from scipy.sparse.linalg import svds\n",
        "from sklearn.metrics import mean_absolute_error as mae\n",
        "\n",
        "tmax = 21\n",
        "MAE = []\n",
        "reconstruction = deepcopy(train_mtx)\n",
        "for t in range(tmax):\n",
        "  U, sigma, Vt = svds(reconstruction, 50)\n",
        "  sigma = np.diag(sigma)\n",
        "\n",
        "  reconstruction = np.round(2*(np.dot(np.dot(U, sigma), Vt)))/2\n",
        "  reconstruction[train_select] = train_mtx[train_select]\n",
        "\n",
        "  reconstruction[reconstruction > 5] = 5\n",
        "  reconstruction[reconstruction < 0.5] = 0.5\n",
        "  \n",
        "  result = reconstruction[test_select].flatten() \n",
        "  ground_truth = test_mtx[test_select].flatten()\n",
        "\n",
        "  MAE.append(mae(result,ground_truth))"
      ],
      "execution_count": 0,
      "outputs": []
    },
    {
      "cell_type": "code",
      "metadata": {
        "id": "cqEVKYJUofx4",
        "colab_type": "code",
        "outputId": "f2671c33-bfee-4159-e196-7938d011e41a",
        "colab": {
          "base_uri": "https://localhost:8080/",
          "height": 330
        }
      },
      "source": [
        "plt.plot(list(range(tmax)), MAE)\n",
        "plt.xlabel('Iteration (t)')\n",
        "plt.ylabel('Test MAE')\n",
        "plt.xticks(np.arange(2, tmax, 2))\n",
        "plt.xlim(0,tmax)\n",
        "plt.title(\"MAE vs Iteration (t)\")\n",
        "plt.grid()\n",
        "\n",
        "print(\"Minimum MAE:\", \"{0:0.2f}\".format(min(MAE)))\n",
        "print(\"Maximum MAE:\", \"{0:0.2f}\".format(max(MAE)))"
      ],
      "execution_count": 87,
      "outputs": [
        {
          "output_type": "stream",
          "text": [
            "Minimum MAE: 0.70\n",
            "Maximum MAE: 0.71\n"
          ],
          "name": "stdout"
        },
        {
          "output_type": "display_data",
          "data": {
            "image/png": "[encoded data removed]",
            "text/plain": [
              "<Figure size 432x288 with 1 Axes>"
            ]
          },
          "metadata": {
            "tags": []
          }
        }
      ]
    }
  ]
}