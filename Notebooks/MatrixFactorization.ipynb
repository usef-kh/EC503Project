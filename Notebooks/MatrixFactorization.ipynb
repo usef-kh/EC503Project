{
  "nbformat": 4,
  "nbformat_minor": 0,
  "metadata": {
    "colab": {
      "name": "MatrixFactorization.ipynb",
      "provenance": [],
      "collapsed_sections": [
        "fziIHjrmBM6A"
      ]
    },
    "kernelspec": {
      "name": "python3",
      "display_name": "Python 3"
    },
    "accelerator": "GPU"
  },
  "cells": [
    {
      "cell_type": "markdown",
      "metadata": {
        "id": "cHEGbNU_RYhW",
        "colab_type": "text"
      },
      "source": [
        "## Loading and Preparing Data "
      ]
    },
    {
      "cell_type": "code",
      "metadata": {
        "id": "6Kip6JfFFSao",
        "colab_type": "code",
        "outputId": "94fc14b9-5abd-439e-d025-496af9bfc29c",
        "colab": {
          "base_uri": "https://localhost:8080/",
          "height": 247
        }
      },
      "source": [
        "import pandas as pd\n",
        "import numpy as np\n",
        "from copy import deepcopy \n",
        "from matplotlib import pyplot as plt\n",
        "import warnings\n",
        "\n",
        "warnings.filterwarnings('ignore')\n",
        "\n",
        "# Trainng Samples loaded from Github Repo\n",
        "ratings_path = 'https://raw.githubusercontent.com/usef-kh/EC503Project/master/Datasets/ml-1m/ratings.dat'\n",
        "titles_path = 'https://raw.githubusercontent.com/usef-kh/EC503Project/master/Datasets/ml-1m/movies.dat'\n",
        "\n",
        "ratings = pd.read_csv(ratings_path, sep  = \"::\", names = ['UserID', 'MovieID', 'Rating', 'Timestamp'])\n",
        "titles = pd.read_csv(titles_path, sep = \"::\", names = ['MovieID', 'Title', 'Genres'], encoding ='latin-1')\n",
        "data = pd.merge(ratings, titles, on='MovieID')\n",
        "\n",
        "ntotal = data.shape[0]\n",
        "ntrain = int(np.floor(ntotal*0.85))\n",
        "ntest = ntotal - ntrain\n",
        "\n",
        "print(f\"ntotal: {ntotal}\\nntrain: {ntrain}\\nntest: {ntest}\")\n",
        "\n",
        "data.head()"
      ],
      "execution_count": 1,
      "outputs": [
        {
          "output_type": "stream",
          "text": [
            "ntotal: 1000209\n",
            "ntrain: 850177\n",
            "ntest: 150032\n"
          ],
          "name": "stdout"
        },
        {
          "output_type": "execute_result",
          "data": {
            "text/html": [
              "<div>\n",
              "<style scoped>\n",
              "    .dataframe tbody tr th:only-of-type {\n",
              "        vertical-align: middle;\n",
              "    }\n",
              "\n",
              "    .dataframe tbody tr th {\n",
              "        vertical-align: top;\n",
              "    }\n",
              "\n",
              "    .dataframe thead th {\n",
              "        text-align: right;\n",
              "    }\n",
              "</style>\n",
              "<table border=\"1\" class=\"dataframe\">\n",
              "  <thead>\n",
              "    <tr style=\"text-align: right;\">\n",
              "      <th></th>\n",
              "      <th>UserID</th>\n",
              "      <th>MovieID</th>\n",
              "      <th>Rating</th>\n",
              "      <th>Timestamp</th>\n",
              "      <th>Title</th>\n",
              "      <th>Genres</th>\n",
              "    </tr>\n",
              "  </thead>\n",
              "  <tbody>\n",
              "    <tr>\n",
              "      <th>0</th>\n",
              "      <td>1</td>\n",
              "      <td>1193</td>\n",
              "      <td>5</td>\n",
              "      <td>978300760</td>\n",
              "      <td>One Flew Over the Cuckoo's Nest (1975)</td>\n",
              "      <td>Drama</td>\n",
              "    </tr>\n",
              "    <tr>\n",
              "      <th>1</th>\n",
              "      <td>2</td>\n",
              "      <td>1193</td>\n",
              "      <td>5</td>\n",
              "      <td>978298413</td>\n",
              "      <td>One Flew Over the Cuckoo's Nest (1975)</td>\n",
              "      <td>Drama</td>\n",
              "    </tr>\n",
              "    <tr>\n",
              "      <th>2</th>\n",
              "      <td>12</td>\n",
              "      <td>1193</td>\n",
              "      <td>4</td>\n",
              "      <td>978220179</td>\n",
              "      <td>One Flew Over the Cuckoo's Nest (1975)</td>\n",
              "      <td>Drama</td>\n",
              "    </tr>\n",
              "    <tr>\n",
              "      <th>3</th>\n",
              "      <td>15</td>\n",
              "      <td>1193</td>\n",
              "      <td>4</td>\n",
              "      <td>978199279</td>\n",
              "      <td>One Flew Over the Cuckoo's Nest (1975)</td>\n",
              "      <td>Drama</td>\n",
              "    </tr>\n",
              "    <tr>\n",
              "      <th>4</th>\n",
              "      <td>17</td>\n",
              "      <td>1193</td>\n",
              "      <td>5</td>\n",
              "      <td>978158471</td>\n",
              "      <td>One Flew Over the Cuckoo's Nest (1975)</td>\n",
              "      <td>Drama</td>\n",
              "    </tr>\n",
              "  </tbody>\n",
              "</table>\n",
              "</div>"
            ],
            "text/plain": [
              "   UserID  MovieID  ...                                   Title  Genres\n",
              "0       1     1193  ...  One Flew Over the Cuckoo's Nest (1975)   Drama\n",
              "1       2     1193  ...  One Flew Over the Cuckoo's Nest (1975)   Drama\n",
              "2      12     1193  ...  One Flew Over the Cuckoo's Nest (1975)   Drama\n",
              "3      15     1193  ...  One Flew Over the Cuckoo's Nest (1975)   Drama\n",
              "4      17     1193  ...  One Flew Over the Cuckoo's Nest (1975)   Drama\n",
              "\n",
              "[5 rows x 6 columns]"
            ]
          },
          "metadata": {
            "tags": []
          },
          "execution_count": 1
        }
      ]
    },
    {
      "cell_type": "markdown",
      "metadata": {
        "id": "3e_hqHjJRlfk",
        "colab_type": "text"
      },
      "source": [
        "### Suffling dataset and splitting into test, train, and valiation"
      ]
    },
    {
      "cell_type": "code",
      "metadata": {
        "id": "l8RJHXWiaGz8",
        "colab_type": "code",
        "colab": {
          "base_uri": "https://localhost:8080/",
          "height": 52
        },
        "outputId": "02d4ed8a-7719-46dd-e689-88075193ac2f"
      },
      "source": [
        "np.random.seed(42)\n",
        "shuffled_data = data.reindex(np.random.permutation(data.index))\n",
        "\n",
        "train = deepcopy(shuffled_data)\n",
        "val = deepcopy(shuffled_data)\n",
        "\n",
        "train['Rating'][ntrain:] = -1\n",
        "val['Rating'][:ntrain] = -1\n",
        "\n",
        "train_mtx = train.pivot_table(index='UserID', columns='Title', values='Rating')\n",
        "test_mtx = val.pivot_table(index='UserID', columns='Title', values='Rating')\n",
        "\n",
        "train_mtx = train_mtx.values\n",
        "test_mtx = test_mtx.values\n",
        "\n",
        "\n",
        "train_mtx[train_mtx == -1] = np.nan\n",
        "test_mtx[test_mtx == -1] = np.nan\n",
        "\n",
        "train_select = ~(np.isnan(train_mtx))\n",
        "test_select = ~(np.isnan(test_mtx))\n",
        "\n",
        "movie_means = np.round(2 * np.nanmean(train_mtx, axis = 1))/2\n",
        "inds = np.where(np.isnan(train_mtx))\n",
        "train_mtx[inds] = np.take(movie_means, inds[1])\n",
        "\n",
        "print(np.shape(test_mtx), np.shape(train_mtx))\n",
        "print(np.shape(test_select), np.shape(train_select))"
      ],
      "execution_count": 2,
      "outputs": [
        {
          "output_type": "stream",
          "text": [
            "(6040, 3706) (6040, 3706)\n",
            "(6040, 3706) (6040, 3706)\n"
          ],
          "name": "stdout"
        }
      ]
    },
    {
      "cell_type": "markdown",
      "metadata": {
        "id": "fziIHjrmBM6A",
        "colab_type": "text"
      },
      "source": [
        "#### Obtaining MAE on test set after filling movie means only to compare with performance of SVD "
      ]
    },
    {
      "cell_type": "code",
      "metadata": {
        "id": "dP1CF-cWBMLu",
        "colab_type": "code",
        "colab": {
          "base_uri": "https://localhost:8080/",
          "height": 0
        },
        "outputId": "b9a5b1e4-379d-47e6-938f-852e27667359"
      },
      "source": [
        "from sklearn.metrics import mean_absolute_error as mae\n",
        "\n",
        "result = train_mtx[test_select].flatten()\n",
        "ground_truth = test_mtx[test_select].flatten()\n",
        "\n",
        "print(\"MAE by only filling mean value:\")\n",
        "print(mae(result,ground_truth))"
      ],
      "execution_count": 3,
      "outputs": [
        {
          "output_type": "stream",
          "text": [
            "MAE by only filling mean value:\n",
            "0.9494841100565212\n"
          ],
          "name": "stdout"
        }
      ]
    },
    {
      "cell_type": "markdown",
      "metadata": {
        "id": "1FZIYxVzS3le",
        "colab_type": "text"
      },
      "source": [
        "## Implementing Matrix Factorization using SVD"
      ]
    },
    {
      "cell_type": "markdown",
      "metadata": {
        "id": "xi2Hd_n2TUif",
        "colab_type": "text"
      },
      "source": [
        "### Tuning hyperparameters using hold out validation\n",
        "#### SVD essentially performs dimention reduction through selecting the rank of the resultant matricies, specifically Sigma.\n",
        "\n",
        "#### On a high level of understanding:\n",
        "#### - U corresponds to the users' features\n",
        "#### - V' captures movies' features. \n",
        "\n",
        "#### Obviously, the higher the rank, the more information is perserved during the reduction. However, the larger its value, the less we are learning the actual data and the more we are overfitting the training set. For this, we will be corss validating our results and minimizing the mse over a validation set to tune the value of k."
      ]
    },
    {
      "cell_type": "code",
      "metadata": {
        "id": "wx9XNFVHmxFv",
        "colab_type": "code",
        "colab": {}
      },
      "source": [
        "from scipy.sparse.linalg import svds\n",
        "from sklearn.metrics import mean_absolute_error as mae\n",
        "\n",
        "tmax = 100\n",
        "MAE = []\n",
        "reconstruction = deepcopy(train_mtx)\n",
        "for t in range(tmax):\n",
        "  U, sigma, Vt = svds(reconstruction, 50)\n",
        "  sigma = np.diag(sigma)\n",
        "\n",
        "  reconstruction = np.round(2*(np.dot(np.dot(U, sigma), Vt)))/2\n",
        "  reconstruction[train_select] = train_mtx[train_select]\n",
        "\n",
        "  reconstruction[reconstruction > 5] = 5\n",
        "  reconstruction[reconstruction < 0.5] = 0.5\n",
        "  \n",
        "  result = reconstruction[test_select].flatten() \n",
        "  ground_truth = test_mtx[test_select].flatten()\n",
        "\n",
        "  MAE.append(mae(result,ground_truth))"
      ],
      "execution_count": 0,
      "outputs": []
    },
    {
      "cell_type": "code",
      "metadata": {
        "id": "cqEVKYJUofx4",
        "colab_type": "code",
        "colab": {}
      },
      "source": [
        "plt.plot(list(range(tmax)), MAE)\n",
        "plt.xlabel('Number of Iterations')\n",
        "plt.ylabel('Test MAE')\n",
        "plt.xticks(np.arange(1, tmax, 2))\n",
        "plt.xlim(0,tmax)\n",
        "plt.title(\"MAE vs Number of Iterations\")\n",
        "plt.grid()"
      ],
      "execution_count": 0,
      "outputs": []
    }
  ]
}