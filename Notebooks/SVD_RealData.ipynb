{
  "nbformat": 4,
  "nbformat_minor": 0,
  "metadata": {
    "colab": {
      "name": "SVD_Real_Data.ipynb",
      "provenance": [],
      "collapsed_sections": []
    },
    "kernelspec": {
      "name": "python3",
      "display_name": "Python 3"
    },
    "accelerator": "GPU"
  },
  "cells": [
    {
      "cell_type": "markdown",
      "metadata": {
        "id": "cHEGbNU_RYhW",
        "colab_type": "text"
      },
      "source": [
        "## Loading and Preparing Data "
      ]
    },
    {
      "cell_type": "code",
      "metadata": {
        "id": "6Kip6JfFFSao",
        "colab_type": "code",
        "outputId": "b95d700c-8c6e-4f0c-d846-2e6ba0fdbe3e",
        "colab": {
          "base_uri": "https://localhost:8080/",
          "height": 255
        }
      },
      "source": [
        "import pandas as pd\n",
        "import numpy as np\n",
        "from copy import deepcopy \n",
        "from matplotlib import pyplot as plt\n",
        "import warnings\n",
        "\n",
        "warnings.filterwarnings('ignore')\n",
        "\n",
        "# Trainng Samples loaded from Github Repo\n",
        "ratings_path = 'https://raw.githubusercontent.com/usef-kh/EC503Project/master/Datasets/ml-1m/ratings.dat'\n",
        "titles_path = 'https://raw.githubusercontent.com/usef-kh/EC503Project/master/Datasets/ml-1m/movies.dat'\n",
        "\n",
        "ratings = pd.read_csv(ratings_path, sep  = \"::\", names = ['UserID', 'MovieID', 'Rating', 'Timestamp'])\n",
        "titles = pd.read_csv(titles_path, sep = \"::\", names = ['MovieID', 'Title', 'Genres'], encoding ='latin-1')\n",
        "data = pd.merge(ratings, titles, on='MovieID')\n",
        "\n",
        "ntotal = data.shape[0]\n",
        "ntrain = int(np.floor(ntotal*0.85))\n",
        "ntest = ntotal - ntrain\n",
        "\n",
        "print(f\"ntotal: {ntotal}\\nntrain: {ntrain}\\nntest: {ntest}\")\n",
        "\n",
        "data.head()"
      ],
      "execution_count": 1,
      "outputs": [
        {
          "output_type": "stream",
          "text": [
            "ntotal: 1000209\n",
            "ntrain: 850177\n",
            "ntest: 150032\n"
          ],
          "name": "stdout"
        },
        {
          "output_type": "execute_result",
          "data": {
            "text/html": [
              "<div>\n",
              "<style scoped>\n",
              "    .dataframe tbody tr th:only-of-type {\n",
              "        vertical-align: middle;\n",
              "    }\n",
              "\n",
              "    .dataframe tbody tr th {\n",
              "        vertical-align: top;\n",
              "    }\n",
              "\n",
              "    .dataframe thead th {\n",
              "        text-align: right;\n",
              "    }\n",
              "</style>\n",
              "<table border=\"1\" class=\"dataframe\">\n",
              "  <thead>\n",
              "    <tr style=\"text-align: right;\">\n",
              "      <th></th>\n",
              "      <th>UserID</th>\n",
              "      <th>MovieID</th>\n",
              "      <th>Rating</th>\n",
              "      <th>Timestamp</th>\n",
              "      <th>Title</th>\n",
              "      <th>Genres</th>\n",
              "    </tr>\n",
              "  </thead>\n",
              "  <tbody>\n",
              "    <tr>\n",
              "      <th>0</th>\n",
              "      <td>1</td>\n",
              "      <td>1193</td>\n",
              "      <td>5</td>\n",
              "      <td>978300760</td>\n",
              "      <td>One Flew Over the Cuckoo's Nest (1975)</td>\n",
              "      <td>Drama</td>\n",
              "    </tr>\n",
              "    <tr>\n",
              "      <th>1</th>\n",
              "      <td>2</td>\n",
              "      <td>1193</td>\n",
              "      <td>5</td>\n",
              "      <td>978298413</td>\n",
              "      <td>One Flew Over the Cuckoo's Nest (1975)</td>\n",
              "      <td>Drama</td>\n",
              "    </tr>\n",
              "    <tr>\n",
              "      <th>2</th>\n",
              "      <td>12</td>\n",
              "      <td>1193</td>\n",
              "      <td>4</td>\n",
              "      <td>978220179</td>\n",
              "      <td>One Flew Over the Cuckoo's Nest (1975)</td>\n",
              "      <td>Drama</td>\n",
              "    </tr>\n",
              "    <tr>\n",
              "      <th>3</th>\n",
              "      <td>15</td>\n",
              "      <td>1193</td>\n",
              "      <td>4</td>\n",
              "      <td>978199279</td>\n",
              "      <td>One Flew Over the Cuckoo's Nest (1975)</td>\n",
              "      <td>Drama</td>\n",
              "    </tr>\n",
              "    <tr>\n",
              "      <th>4</th>\n",
              "      <td>17</td>\n",
              "      <td>1193</td>\n",
              "      <td>5</td>\n",
              "      <td>978158471</td>\n",
              "      <td>One Flew Over the Cuckoo's Nest (1975)</td>\n",
              "      <td>Drama</td>\n",
              "    </tr>\n",
              "  </tbody>\n",
              "</table>\n",
              "</div>"
            ],
            "text/plain": [
              "   UserID  MovieID  ...                                   Title  Genres\n",
              "0       1     1193  ...  One Flew Over the Cuckoo's Nest (1975)   Drama\n",
              "1       2     1193  ...  One Flew Over the Cuckoo's Nest (1975)   Drama\n",
              "2      12     1193  ...  One Flew Over the Cuckoo's Nest (1975)   Drama\n",
              "3      15     1193  ...  One Flew Over the Cuckoo's Nest (1975)   Drama\n",
              "4      17     1193  ...  One Flew Over the Cuckoo's Nest (1975)   Drama\n",
              "\n",
              "[5 rows x 6 columns]"
            ]
          },
          "metadata": {
            "tags": []
          },
          "execution_count": 1
        }
      ]
    },
    {
      "cell_type": "markdown",
      "metadata": {
        "id": "3e_hqHjJRlfk",
        "colab_type": "text"
      },
      "source": [
        "### Suffling dataset and splitting into test, train, and valiation"
      ]
    },
    {
      "cell_type": "code",
      "metadata": {
        "id": "l8RJHXWiaGz8",
        "colab_type": "code",
        "outputId": "13d4c52e-1881-4de1-f3d8-ec3d206e40db",
        "colab": {
          "base_uri": "https://localhost:8080/",
          "height": 238
        }
      },
      "source": [
        "np.random.seed(42)\n",
        "shuffled_data = data.reindex(np.random.permutation(data.index))\n",
        "\n",
        "train = deepcopy(shuffled_data)\n",
        "test = deepcopy(shuffled_data)\n",
        "\n",
        "train['Rating'][ntrain:] = -1\n",
        "test['Rating'][:ntrain] = -1\n",
        "\n",
        "train_mtx = train.pivot_table(index='UserID', columns='Title', values='Rating')\n",
        "test_mtx = test.pivot_table(index='UserID', columns='Title', values='Rating')\n",
        "\n",
        "train_mtx = train_mtx.values\n",
        "test_mtx = test_mtx.values\n",
        "\n",
        "\n",
        "train_mtx[train_mtx == -1] = np.nan\n",
        "test_mtx[test_mtx == -1] = np.nan\n",
        "\n",
        "train_select = ~(np.isnan(train_mtx))\n",
        "test_select = ~(np.isnan(test_mtx))\n",
        "\n",
        "print(np.shape(test_mtx), np.shape(train_mtx))\n",
        "print(np.shape(test_select), np.shape(train_select))\n",
        "\n",
        "train.head()"
      ],
      "execution_count": 45,
      "outputs": [
        {
          "output_type": "stream",
          "text": [
            "(6040, 3706) (6040, 3706)\n",
            "(6040, 3706) (6040, 3706)\n"
          ],
          "name": "stdout"
        },
        {
          "output_type": "execute_result",
          "data": {
            "text/html": [
              "<div>\n",
              "<style scoped>\n",
              "    .dataframe tbody tr th:only-of-type {\n",
              "        vertical-align: middle;\n",
              "    }\n",
              "\n",
              "    .dataframe tbody tr th {\n",
              "        vertical-align: top;\n",
              "    }\n",
              "\n",
              "    .dataframe thead th {\n",
              "        text-align: right;\n",
              "    }\n",
              "</style>\n",
              "<table border=\"1\" class=\"dataframe\">\n",
              "  <thead>\n",
              "    <tr style=\"text-align: right;\">\n",
              "      <th></th>\n",
              "      <th>UserID</th>\n",
              "      <th>MovieID</th>\n",
              "      <th>Rating</th>\n",
              "      <th>Timestamp</th>\n",
              "      <th>Title</th>\n",
              "      <th>Genres</th>\n",
              "    </tr>\n",
              "  </thead>\n",
              "  <tbody>\n",
              "    <tr>\n",
              "      <th>895536</th>\n",
              "      <td>5755</td>\n",
              "      <td>184</td>\n",
              "      <td>3</td>\n",
              "      <td>958280246</td>\n",
              "      <td>Nadja (1994)</td>\n",
              "      <td>Drama</td>\n",
              "    </tr>\n",
              "    <tr>\n",
              "      <th>899739</th>\n",
              "      <td>4585</td>\n",
              "      <td>519</td>\n",
              "      <td>3</td>\n",
              "      <td>964321944</td>\n",
              "      <td>Robocop 3 (1993)</td>\n",
              "      <td>Sci-Fi|Thriller</td>\n",
              "    </tr>\n",
              "    <tr>\n",
              "      <th>55687</th>\n",
              "      <td>1503</td>\n",
              "      <td>3114</td>\n",
              "      <td>4</td>\n",
              "      <td>974762175</td>\n",
              "      <td>Toy Story 2 (1999)</td>\n",
              "      <td>Animation|Children's|Comedy</td>\n",
              "    </tr>\n",
              "    <tr>\n",
              "      <th>63727</th>\n",
              "      <td>2166</td>\n",
              "      <td>648</td>\n",
              "      <td>4</td>\n",
              "      <td>974614593</td>\n",
              "      <td>Mission: Impossible (1996)</td>\n",
              "      <td>Action|Adventure|Mystery</td>\n",
              "    </tr>\n",
              "    <tr>\n",
              "      <th>822011</th>\n",
              "      <td>3201</td>\n",
              "      <td>2178</td>\n",
              "      <td>5</td>\n",
              "      <td>968626301</td>\n",
              "      <td>Frenzy (1972)</td>\n",
              "      <td>Thriller</td>\n",
              "    </tr>\n",
              "  </tbody>\n",
              "</table>\n",
              "</div>"
            ],
            "text/plain": [
              "        UserID  ...                       Genres\n",
              "895536    5755  ...                        Drama\n",
              "899739    4585  ...              Sci-Fi|Thriller\n",
              "55687     1503  ...  Animation|Children's|Comedy\n",
              "63727     2166  ...     Action|Adventure|Mystery\n",
              "822011    3201  ...                     Thriller\n",
              "\n",
              "[5 rows x 6 columns]"
            ]
          },
          "metadata": {
            "tags": []
          },
          "execution_count": 45
        }
      ]
    },
    {
      "cell_type": "code",
      "metadata": {
        "id": "TFbyQ4YkLNKa",
        "colab_type": "code",
        "outputId": "12b0041e-9844-4d8a-82d6-9bedc0915662",
        "colab": {
          "base_uri": "https://localhost:8080/",
          "height": 136
        }
      },
      "source": [
        "user_means = np.nanmean(train_mtx, axis = 1)\n",
        "movie_means = np.nanmean(train_mtx, axis = 0)\n",
        "\n",
        "um = np.nanmean(user_means)\n",
        "mm = np.nanmean(movie_means)\n",
        "\n",
        "unan = np.argwhere(np.isnan(user_means))\n",
        "mnan = np.argwhere(np.isnan(movie_means))\n",
        "\n",
        "movie_means[mnan] = mm\n",
        "user_means[unan] = um\n",
        "\n",
        "print(\"User Means:\")\n",
        "print(\"Shape:\", user_means.shape)\n",
        "print(user_means)\n",
        "\n",
        "print('\\nMovie Means')\n",
        "print(\"Shape:\", movie_means.shape)\n",
        "print(movie_means)\n"
      ],
      "execution_count": 46,
      "outputs": [
        {
          "output_type": "stream",
          "text": [
            "User Means:\n",
            "Shape: (6040,)\n",
            "[4.17021277 3.7027027  3.91111111 ... 3.5625     3.87378641 3.5970696 ]\n",
            "\n",
            "Movie Means\n",
            "Shape: (3706,)\n",
            "[3.03030303 3.35       2.75       ... 3.2407125  2.57142857 3.24928367]\n"
          ],
          "name": "stdout"
        }
      ]
    },
    {
      "cell_type": "code",
      "metadata": {
        "id": "7qPtE4xzSJO_",
        "colab_type": "code",
        "colab": {}
      },
      "source": [
        "[n_users, n_movies] = train_mtx.shape\n",
        "\n",
        "train_mtx_mm = deepcopy(train_mtx)\n",
        "train_mtx_um = deepcopy(train_mtx)\n",
        "train_mtx_both = deepcopy(train_mtx)\n",
        "train_mtx_zero = deepcopy(train_mtx)\n",
        "\n",
        "for i in range(n_users):\n",
        "  for j in range(n_movies):\n",
        "    if(np.isnan(train_mtx[i,j])):\n",
        "      train_mtx_mm[i,j] = movie_means[j] \n",
        "      train_mtx_um[i,j] = user_means[i] \n",
        "      train_mtx_both[i,j] = (user_means[i] + movie_means[j])/2\n",
        "\n",
        " train_mtx_zero = np.nan_to_num(train_mtx_zero)"
      ],
      "execution_count": 0,
      "outputs": []
    },
    {
      "cell_type": "code",
      "metadata": {
        "id": "F0LiYB2QLQXg",
        "colab_type": "code",
        "outputId": "90dad53e-e542-4373-8e3a-a5741df209ed",
        "colab": {
          "base_uri": "https://localhost:8080/",
          "height": 153
        }
      },
      "source": [
        "train_mtx_zero = deepcopy(train_mtx)\n",
        "train_mtx_zero = np.nan_to_num(train_mtx_zero)\n",
        "print(train_mtx.shape)\n",
        "print(train_mtx_zero)"
      ],
      "execution_count": 52,
      "outputs": [
        {
          "output_type": "stream",
          "text": [
            "(6040, 3706)\n",
            "[[0. 0. 0. ... 0. 0. 0.]\n",
            " [0. 0. 0. ... 0. 0. 0.]\n",
            " [0. 0. 0. ... 0. 0. 0.]\n",
            " ...\n",
            " [0. 0. 0. ... 0. 0. 0.]\n",
            " [0. 0. 0. ... 0. 0. 0.]\n",
            " [0. 0. 0. ... 0. 0. 0.]]\n"
          ],
          "name": "stdout"
        }
      ]
    },
    {
      "cell_type": "markdown",
      "metadata": {
        "id": "fziIHjrmBM6A",
        "colab_type": "text"
      },
      "source": [
        "#### Obtaining MAE on test set after filling movie means only to compare with performance of SVD "
      ]
    },
    {
      "cell_type": "code",
      "metadata": {
        "id": "dP1CF-cWBMLu",
        "colab_type": "code",
        "outputId": "0aabf01a-e00a-4aef-8e81-5210f5ba1151",
        "colab": {
          "base_uri": "https://localhost:8080/",
          "height": 102
        }
      },
      "source": [
        "from sklearn.metrics import mean_absolute_error as mae\n",
        "\n",
        "result_zeros = train_mtx_zero[test_select].flatten() \n",
        "result_um = train_mtx_um[test_select].flatten()\n",
        "result_mm = train_mtx_mm[test_select].flatten()\n",
        "result_both = train_mtx_both[test_select].flatten()\n",
        "ground_truth = test_mtx[test_select].flatten()\n",
        "\n",
        "print('Initial MAE on filled matrix')\n",
        "print('Filled using zeros:' , mae(result_zeros, ground_truth))\n",
        "print('Filled using user means:' , mae(result_um, ground_truth))\n",
        "print('Filled using movie means:' , mae(result_mm, ground_truth))\n",
        "print('Filled using both:' , mae(result_both, ground_truth))"
      ],
      "execution_count": 53,
      "outputs": [
        {
          "output_type": "stream",
          "text": [
            "Initial MAE on filled matrix\n",
            "Filled using zeros: 3.58054281753226\n",
            "Filled using user means: 0.8293739398197625\n",
            "Filled using movie means: 0.7818449943655356\n",
            "Filled using both: 0.7712933153690582\n"
          ],
          "name": "stdout"
        }
      ]
    },
    {
      "cell_type": "markdown",
      "metadata": {
        "id": "1FZIYxVzS3le",
        "colab_type": "text"
      },
      "source": [
        "## Implementing Matrix Factorization using SVD"
      ]
    },
    {
      "cell_type": "markdown",
      "metadata": {
        "id": "xi2Hd_n2TUif",
        "colab_type": "text"
      },
      "source": [
        "### Tuning hyperparameters using hold out validation\n",
        "#### SVD essentially performs dimention reduction through selecting the rank of the resultant matricies, specifically Sigma.\n",
        "\n",
        "#### On a high level of understanding:\n",
        "#### - U corresponds to the users' features\n",
        "#### - V' captures movies' features. \n",
        "\n",
        "#### Obviously, the higher the rank, the more information is perserved during the reduction. However, the larger its value, the less we are learning the actual data and the more we are overfitting the training set. For this, we will be corss validating our results and minimizing the mse over a validation set to tune the value of k."
      ]
    },
    {
      "cell_type": "code",
      "metadata": {
        "id": "wx9XNFVHmxFv",
        "colab_type": "code",
        "colab": {}
      },
      "source": [
        "from scipy.sparse.linalg import svds\n",
        "\n",
        "def run_SVD(mtx, tmax):\n",
        "  MAE = []\n",
        "  reconstruction = deepcopy(mtx)\n",
        "  for t in range(tmax):\n",
        "    U, sigma, Vt = svds(reconstruction, 50)\n",
        "    sigma = np.diag(sigma)\n",
        "\n",
        "    reconstruction = np.round(2*(np.dot(np.dot(U, sigma), Vt)))/2\n",
        "    reconstruction[train_select] = mtx[train_select]\n",
        "\n",
        "    reconstruction[reconstruction > 5] = 5\n",
        "    reconstruction[reconstruction < 0.5] = 0.5\n",
        "    \n",
        "    result = reconstruction[test_select].flatten() \n",
        "    ground_truth = test_mtx[test_select].flatten()\n",
        "\n",
        "    MAE.append(mae(result,ground_truth))\n",
        "  \n",
        "  return [MAE, reconstruction]\n",
        "\n",
        "t = 10\n",
        "[MAE_zero, res_zero] = run_SVD(train_mtx_zero, t)\n",
        "[MAE_um, res_um] = run_SVD(train_mtx_um, t)\n",
        "[MAE_mm, res_mm] = run_SVD(train_mtx_mm, t)\n",
        "[MAE_both, res_both] = run_SVD(train_mtx_both, t)\n"
      ],
      "execution_count": 0,
      "outputs": []
    },
    {
      "cell_type": "code",
      "metadata": {
        "id": "cqEVKYJUofx4",
        "colab_type": "code",
        "outputId": "d5bf6b2f-a954-40ed-f969-d3cb61dd36b1",
        "colab": {
          "base_uri": "https://localhost:8080/",
          "height": 1000
        }
      },
      "source": [
        "def plot_MAE(MAE, tmax):\n",
        "  plt.figure()\n",
        "  plt.plot(list(range(tmax)), MAE)\n",
        "  plt.xlabel('Iteration (t)')\n",
        "  plt.ylabel('Test MAE')\n",
        "  plt.xticks(np.arange(2, tmax, 2))\n",
        "  plt.xlim(0,tmax)\n",
        "  plt.title(\"MAE vs Iteration (t)\")\n",
        "  plt.grid()\n",
        "  \n",
        "  print(\"Maximum MAE:\", \"{0:0.4f}\".format(max(MAE)))\n",
        "  print(\"Minimum MAE:\", \"{0:0.4f}\".format(min(MAE)))\n",
        "\n",
        "\n",
        "\n",
        "plot_MAE(MAE_zero, t)\n",
        "plot_MAE(MAE_um, t)\n",
        "plot_MAE(MAE_mm, t)\n",
        "plot_MAE(MAE_both, t)"
      ],
      "execution_count": 66,
      "outputs": [
        {
          "output_type": "stream",
          "text": [
            "Maximum MAE: 2.3107\n",
            "Minimum MAE: 1.0338\n",
            "Maximum MAE: 0.7486\n",
            "Minimum MAE: 0.7136\n",
            "Maximum MAE: 0.7169\n",
            "Minimum MAE: 0.7008\n",
            "Maximum MAE: 0.7118\n",
            "Minimum MAE: 0.6987\n"
          ],
          "name": "stdout"
        },
        {
          "output_type": "display_data",
          "data": {
            "image/png": "[encoded data removed]",
            "text/plain": [
              "<Figure size 432x288 with 1 Axes>"
            ]
          },
          "metadata": {
            "tags": []
          }
        },
        {
          "output_type": "display_data",
          "data": {
            "image/png": "[encoded data removed]",
            "text/plain": [
              "<Figure size 432x288 with 1 Axes>"
            ]
          },
          "metadata": {
            "tags": []
          }
        },
        {
          "output_type": "display_data",
          "data": {
            "image/png": "[encoded data removed]",
            "text/plain": [
              "<Figure size 432x288 with 1 Axes>"
            ]
          },
          "metadata": {
            "tags": []
          }
        },
        {
          "output_type": "display_data",
          "data": {
            "image/png": "[encoded data removed]",
            "text/plain": [
              "<Figure size 432x288 with 1 Axes>"
            ]
          },
          "metadata": {
            "tags": []
          }
        }
      ]
    },
    {
      "cell_type": "code",
      "metadata": {
        "id": "zsnRv3Se7rUy",
        "colab_type": "code",
        "colab": {}
      },
      "source": [
        "[n_users, n_movies] = train_mtx.shape\n",
        "\n",
        "train_mtx_both = deepcopy(train_mtx)\n",
        "ground_truth = test_mtx[test_select].flatten()\n",
        "\n",
        "\n",
        "t = 10\n",
        "lamda = [0, 0.2, 0.3, 0.4, 0.5, 0.6, 0.8, 1]\n",
        "initial_mae = []\n",
        "final_mae = []\n",
        "for lam in lamda:\n",
        "\n",
        "  for i in range(n_users):\n",
        "    for j in range(n_movies):\n",
        "      if(np.isnan(train_mtx[i,j])):\n",
        "        train_mtx_both[i,j] = lam*user_means[i] + (1-lam)*movie_means[j]\n",
        "\n",
        "  initial_result = train_mtx_both[test_select].flatten()\n",
        "  initial_mae.append(mae(initial_result, ground_truth))\n",
        "\n",
        "  [SVD_MAE, reco] = run_SVD(train_mtx_both, t)\n",
        "\n",
        "  final_mae.append(min(SVD_MAE))\n"
      ],
      "execution_count": 0,
      "outputs": []
    },
    {
      "cell_type": "code",
      "metadata": {
        "id": "ZEYLdIUzAbep",
        "colab_type": "code",
        "colab": {
          "base_uri": "https://localhost:8080/",
          "height": 658
        },
        "outputId": "38814f80-b0f5-4214-dad4-ece50d92351e"
      },
      "source": [
        "plt.figure()\n",
        "plt.plot(lamda, initial_mae)\n",
        "plt.xlabel('lambda')\n",
        "plt.ylabel('Test MAE')\n",
        "plt.xticks(np.arange(0, 1, 0.1))\n",
        "plt.title(\"Initial MAE using composite mean vs Lambda\")\n",
        "plt.grid()\n",
        "\n",
        "plt.figure()\n",
        "plt.plot(lamda, final_mae)\n",
        "plt.xlabel('lambda')\n",
        "plt.ylabel('Test MAE')\n",
        "plt.xticks(np.arange(0, 1, 0.1))\n",
        "plt.title(\"Final MAE after running SVD vs Lambda\")\n",
        "plt.grid()\n",
        "\n",
        "print(\"Minimum initial MAE:\", min(initial_mae), \"\\n\\tlambda_star:\", lamda[np.argmin(final_mae)])\n",
        "print(\"\\nMinimum final MAE:  \", min(final_mae), \"\\n\\tlambda_star:\", lamda[np.argmin(final_mae)])"
      ],
      "execution_count": 87,
      "outputs": [
        {
          "output_type": "stream",
          "text": [
            "Minimum initial MAE: 0.7659413143092985 \n",
            "\tlambda_star: 0.3\n",
            "\n",
            "Minimum final MAE:   0.6954483043617362 \n",
            "\tlambda_star: 0.3\n"
          ],
          "name": "stdout"
        },
        {
          "output_type": "display_data",
          "data": {
            "image/png": "[encoded data removed]",
            "text/plain": [
              "<Figure size 432x288 with 1 Axes>"
            ]
          },
          "metadata": {
            "tags": []
          }
        },
        {
          "output_type": "display_data",
          "data": {
            "image/png": "[encoded data removed]",
            "text/plain": [
              "<Figure size 432x288 with 1 Axes>"
            ]
          },
          "metadata": {
            "tags": []
          }
        }
      ]
    },
    {
      "cell_type": "code",
      "metadata": {
        "id": "LuZDgAzhDqqd",
        "colab_type": "code",
        "colab": {}
      },
      "source": [
        ""
      ],
      "execution_count": 0,
      "outputs": []
    }
  ]
}