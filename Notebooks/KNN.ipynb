{
  "nbformat": 4,
  "nbformat_minor": 0,
  "metadata": {
    "colab": {
      "name": "KNN.ipynb",
      "provenance": [],
      "collapsed_sections": []
    },
    "kernelspec": {
      "name": "python3",
      "display_name": "Python 3"
    },
    "accelerator": "GPU"
  },
  "cells": [
    {
      "cell_type": "code",
      "metadata": {
        "id": "V6Q6RaqQg5ch",
        "colab_type": "code",
        "outputId": "45211386-9f7c-427e-f940-90e061213513",
        "colab": {
          "base_uri": "https://localhost:8080/",
          "height": 253
        }
      },
      "source": [
        "import pandas as pd\n",
        "import numpy as np\n",
        "from scipy.spatial.distance import cosine as dist\n",
        "from scipy.sparse.linalg import svds\n",
        "# from sklearn.metrics import mean_squared_error as mse\n",
        "from sklearn.metrics import mean_absolute_error as mse \n",
        "from sklearn.metrics.pairwise import cosine_similarity  \n",
        "from copy import deepcopy \n",
        "from matplotlib import pyplot as plt\n",
        "import warnings\n",
        "\n",
        "warnings.filterwarnings('ignore')\n",
        "np.set_printoptions(suppress = True)\n",
        "\n",
        "# reference link: https://hendra-herviawan.github.io/Movie-Recommendation-based-on-KNN-K-Nearest-Neighbors.html\n",
        "# Trainng Samples loaded from Github Repo\n",
        "ratings_path = 'https://raw.githubusercontent.com/usef-kh/EC503Project/master/Datasets/ml-1m/ratings.dat'\n",
        "titles_path = 'https://raw.githubusercontent.com/usef-kh/EC503Project/master/Datasets/ml-1m/movies.dat'\n",
        "\n",
        "ratings = pd.read_csv(ratings_path, sep  = \"::\", names = ['UserID', 'MovieID', 'Rating', 'Timestamp'])\n",
        "titles = pd.read_csv(titles_path, sep = \"::\", names = ['MovieID', 'Title', 'Genres'], encoding ='latin-1')\n",
        "data = pd.merge(ratings, titles, on='MovieID')\n",
        "\n",
        "ntotal = data.shape[0]\n",
        "ntv = int(np.floor(ntotal*0.85))\n",
        "ntest = ntotal - ntv\n",
        "\n",
        "print(f\"ntotal: {ntotal}\\nntrain: {ntv}\\nntest: {ntest}\")\n",
        "\n",
        "data.head()"
      ],
      "execution_count": 1,
      "outputs": [
        {
          "output_type": "stream",
          "text": [
            "ntotal: 1000209\n",
            "ntrain: 850177\n",
            "ntest: 150032\n"
          ],
          "name": "stdout"
        },
        {
          "output_type": "execute_result",
          "data": {
            "text/html": [
              "<div>\n",
              "<style scoped>\n",
              "    .dataframe tbody tr th:only-of-type {\n",
              "        vertical-align: middle;\n",
              "    }\n",
              "\n",
              "    .dataframe tbody tr th {\n",
              "        vertical-align: top;\n",
              "    }\n",
              "\n",
              "    .dataframe thead th {\n",
              "        text-align: right;\n",
              "    }\n",
              "</style>\n",
              "<table border=\"1\" class=\"dataframe\">\n",
              "  <thead>\n",
              "    <tr style=\"text-align: right;\">\n",
              "      <th></th>\n",
              "      <th>UserID</th>\n",
              "      <th>MovieID</th>\n",
              "      <th>Rating</th>\n",
              "      <th>Timestamp</th>\n",
              "      <th>Title</th>\n",
              "      <th>Genres</th>\n",
              "    </tr>\n",
              "  </thead>\n",
              "  <tbody>\n",
              "    <tr>\n",
              "      <th>0</th>\n",
              "      <td>1</td>\n",
              "      <td>1193</td>\n",
              "      <td>5</td>\n",
              "      <td>978300760</td>\n",
              "      <td>One Flew Over the Cuckoo's Nest (1975)</td>\n",
              "      <td>Drama</td>\n",
              "    </tr>\n",
              "    <tr>\n",
              "      <th>1</th>\n",
              "      <td>2</td>\n",
              "      <td>1193</td>\n",
              "      <td>5</td>\n",
              "      <td>978298413</td>\n",
              "      <td>One Flew Over the Cuckoo's Nest (1975)</td>\n",
              "      <td>Drama</td>\n",
              "    </tr>\n",
              "    <tr>\n",
              "      <th>2</th>\n",
              "      <td>12</td>\n",
              "      <td>1193</td>\n",
              "      <td>4</td>\n",
              "      <td>978220179</td>\n",
              "      <td>One Flew Over the Cuckoo's Nest (1975)</td>\n",
              "      <td>Drama</td>\n",
              "    </tr>\n",
              "    <tr>\n",
              "      <th>3</th>\n",
              "      <td>15</td>\n",
              "      <td>1193</td>\n",
              "      <td>4</td>\n",
              "      <td>978199279</td>\n",
              "      <td>One Flew Over the Cuckoo's Nest (1975)</td>\n",
              "      <td>Drama</td>\n",
              "    </tr>\n",
              "    <tr>\n",
              "      <th>4</th>\n",
              "      <td>17</td>\n",
              "      <td>1193</td>\n",
              "      <td>5</td>\n",
              "      <td>978158471</td>\n",
              "      <td>One Flew Over the Cuckoo's Nest (1975)</td>\n",
              "      <td>Drama</td>\n",
              "    </tr>\n",
              "  </tbody>\n",
              "</table>\n",
              "</div>"
            ],
            "text/plain": [
              "   UserID  MovieID  ...                                   Title  Genres\n",
              "0       1     1193  ...  One Flew Over the Cuckoo's Nest (1975)   Drama\n",
              "1       2     1193  ...  One Flew Over the Cuckoo's Nest (1975)   Drama\n",
              "2      12     1193  ...  One Flew Over the Cuckoo's Nest (1975)   Drama\n",
              "3      15     1193  ...  One Flew Over the Cuckoo's Nest (1975)   Drama\n",
              "4      17     1193  ...  One Flew Over the Cuckoo's Nest (1975)   Drama\n",
              "\n",
              "[5 rows x 6 columns]"
            ]
          },
          "metadata": {
            "tags": []
          },
          "execution_count": 1
        }
      ]
    },
    {
      "cell_type": "code",
      "metadata": {
        "id": "9yucw52ullK2",
        "colab_type": "code",
        "outputId": "266000a3-41d1-4acb-89a0-b4f79db266ec",
        "colab": {
          "base_uri": "https://localhost:8080/",
          "height": 228
        }
      },
      "source": [
        "def normalize(x):\n",
        "  return (x - np.min(x)) / (np.max(x) - np.min(x))\n",
        "\n",
        "stats = pd.DataFrame()\n",
        "stats['Average Rating'] = data.groupby('MovieID')['Rating'].mean()\n",
        "stats['Rating Count'] = data.groupby('MovieID')['Rating'].count()\n",
        "stats['Normalized Rating Count'] = normalize(stats['Rating Count'])\n",
        "\n",
        "stats.head()"
      ],
      "execution_count": 2,
      "outputs": [
        {
          "output_type": "execute_result",
          "data": {
            "text/html": [
              "<div>\n",
              "<style scoped>\n",
              "    .dataframe tbody tr th:only-of-type {\n",
              "        vertical-align: middle;\n",
              "    }\n",
              "\n",
              "    .dataframe tbody tr th {\n",
              "        vertical-align: top;\n",
              "    }\n",
              "\n",
              "    .dataframe thead th {\n",
              "        text-align: right;\n",
              "    }\n",
              "</style>\n",
              "<table border=\"1\" class=\"dataframe\">\n",
              "  <thead>\n",
              "    <tr style=\"text-align: right;\">\n",
              "      <th></th>\n",
              "      <th>Average Rating</th>\n",
              "      <th>Rating Count</th>\n",
              "      <th>Normalized Rating Count</th>\n",
              "    </tr>\n",
              "    <tr>\n",
              "      <th>MovieID</th>\n",
              "      <th></th>\n",
              "      <th></th>\n",
              "      <th></th>\n",
              "    </tr>\n",
              "  </thead>\n",
              "  <tbody>\n",
              "    <tr>\n",
              "      <th>1</th>\n",
              "      <td>4.146846</td>\n",
              "      <td>2077</td>\n",
              "      <td>0.605778</td>\n",
              "    </tr>\n",
              "    <tr>\n",
              "      <th>2</th>\n",
              "      <td>3.201141</td>\n",
              "      <td>701</td>\n",
              "      <td>0.204260</td>\n",
              "    </tr>\n",
              "    <tr>\n",
              "      <th>3</th>\n",
              "      <td>3.016736</td>\n",
              "      <td>478</td>\n",
              "      <td>0.139189</td>\n",
              "    </tr>\n",
              "    <tr>\n",
              "      <th>4</th>\n",
              "      <td>2.729412</td>\n",
              "      <td>170</td>\n",
              "      <td>0.049314</td>\n",
              "    </tr>\n",
              "    <tr>\n",
              "      <th>5</th>\n",
              "      <td>3.006757</td>\n",
              "      <td>296</td>\n",
              "      <td>0.086081</td>\n",
              "    </tr>\n",
              "  </tbody>\n",
              "</table>\n",
              "</div>"
            ],
            "text/plain": [
              "         Average Rating  Rating Count  Normalized Rating Count\n",
              "MovieID                                                       \n",
              "1              4.146846          2077                 0.605778\n",
              "2              3.201141           701                 0.204260\n",
              "3              3.016736           478                 0.139189\n",
              "4              2.729412           170                 0.049314\n",
              "5              3.006757           296                 0.086081"
            ]
          },
          "metadata": {
            "tags": []
          },
          "execution_count": 2
        }
      ]
    },
    {
      "cell_type": "code",
      "metadata": {
        "id": "B5vkoA6cZcJp",
        "colab_type": "code",
        "outputId": "3d3685c6-649c-4c9d-95cc-29be55dfa456",
        "colab": {
          "base_uri": "https://localhost:8080/",
          "height": 55
        }
      },
      "source": [
        "all_genres = []\n",
        "\n",
        "for index,row in titles.iterrows():\n",
        "  #  separate the genres and put into a list\n",
        "  temp = row.Genres.split('|')\n",
        "   #  store all the genres into a list\n",
        "  all_genres =  all_genres + temp\n",
        "  # unique genres list\n",
        "genres = list(set(all_genres))\n",
        "lenGeneres = len(genres)\n",
        "zeroVec = np.zeros(lenGeneres) \n",
        "#  store the genres and corresponding index into a dictionary\n",
        "genreDict0 = dict(enumerate(genres))\n",
        "#  store genres as key and index as value\n",
        "genreDict = {value:key for key, value in genreDict0.items()}\n",
        "print(genreDict)\n"
      ],
      "execution_count": 3,
      "outputs": [
        {
          "output_type": "stream",
          "text": [
            "{'Fantasy': 0, 'Horror': 1, \"Children's\": 2, 'Mystery': 3, 'Crime': 4, 'Drama': 5, 'War': 6, 'Documentary': 7, 'Musical': 8, 'Sci-Fi': 9, 'Thriller': 10, 'Film-Noir': 11, 'Comedy': 12, 'Animation': 13, 'Adventure': 14, 'Western': 15, 'Action': 16, 'Romance': 17}\n"
          ],
          "name": "stdout"
        }
      ]
    },
    {
      "cell_type": "code",
      "metadata": {
        "id": "Bey8Qnpom_a4",
        "colab_type": "code",
        "colab": {}
      },
      "source": [
        "#  create a class to store movie name, genres and rating\n",
        "class Details():\n",
        "  def __init__(self, n , g, nc, mr):\n",
        "    self.name = n\n",
        "    self.genres = g\n",
        "    self.mean_rating = mr\n",
        "    self.normalized_count = nc\n",
        "\n",
        "  def __str__(self):\n",
        "    return self.name + \" \" + str(self.mean_rating) + \" \" + str(self.normalized_count) + \" \" + str(self.genres) \n",
        "movieDict = {}\n",
        "genreArray = []\n",
        "nrc = []\n",
        "possible_ids = []\n",
        "for index,row in titles.iterrows():\n",
        "  try:\n",
        "      # create a zeros list\n",
        "      genresVec = np.zeros(lenGeneres)\n",
        "      # get genres\n",
        "      genreTmp = row.Genres.split('|')\n",
        "\n",
        "      for gen in genreTmp: \n",
        "         # get genres index\n",
        "        genID = genreDict[gen]\n",
        "        # assign the corresponding genres index to 1\n",
        "        genresVec[genID] = 1\n",
        "\n",
        "      # a vector storing normalized rating count\n",
        "      nrc += [stats.loc[row.MovieID]['Normalized Rating Count']]\n",
        "      \n",
        "      # put the 0 and 1 vector into a whole matrix representing the genres\n",
        "      genreArray += [genresVec]\n",
        "      # a vector storing id of movies for later process, skipping wired data. \n",
        "      possible_ids += [row.MovieID]\n",
        "      movieDict[row.MovieID] = Details(row.Title, genresVec, stats.loc[row.MovieID]['Normalized Rating Count'],  stats.loc[row.MovieID]['Average Rating'])\n",
        "  except:  \n",
        "    continue\n"
      ],
      "execution_count": 0,
      "outputs": []
    },
    {
      "cell_type": "code",
      "metadata": {
        "id": "-5r77_GbpcNC",
        "colab_type": "code",
        "outputId": "06030be1-b961-4d42-c2e7-055ce9ad77c2",
        "colab": {
          "base_uri": "https://localhost:8080/",
          "height": 35
        }
      },
      "source": [
        "# computing distance\n",
        "countrate_dist = []\n",
        "for rate in nrc:\n",
        "  # use the current rate minus the whole vector to get difference. \n",
        "  temp = rate - nrc\n",
        "  countrate_dist += [temp]\n",
        "# compute the absolute value of rate difference. \n",
        "countrate_dist = np.absolute(countrate_dist)\n",
        "# compute the cosine simularity, 1 - similarity will convert to distance. \n",
        "dists = 1 - cosine_similarity(genreArray,genreArray)\n",
        "# the total distance including rating and genres\n",
        "dist_final = dists + countrate_dist\n",
        "\n",
        "print(dist_final[1][1])"
      ],
      "execution_count": 9,
      "outputs": [
        {
          "output_type": "stream",
          "text": [
            "-2.220446049250313e-16\n"
          ],
          "name": "stdout"
        }
      ]
    },
    {
      "cell_type": "code",
      "metadata": {
        "id": "iVOJ8UbAs-zM",
        "colab_type": "code",
        "outputId": "5248c716-cd83-4a51-ee5a-8a435c6546a7",
        "colab": {
          "base_uri": "https://localhost:8080/",
          "height": 35
        }
      },
      "source": [
        "# get the k nearest neighbors. \n",
        "def getNeighbors(movieID, dist_mtx, k):\n",
        "    movieID -= 1  \n",
        "    dist2movie = np.vstack((possible_ids, dist_mtx[movieID]))\n",
        "    dist2movie = np.transpose(dist2movie)\n",
        "    dist2movie = np.delete(dist2movie, movieID, axis = 0)\n",
        "    dist2movie = dist2movie[np.argsort(dist2movie[:, 1])]\n",
        "    return dist2movie[0:k, :]\n",
        "K = 5\n",
        "neighbors = getNeighbors(1, dist_final, K)\n",
        "\n",
        "avg_rating = 0\n",
        "for neighbor in neighbors:\n",
        "  avg_rating += stats.loc[neighbor[0]]['Average Rating']/K\n",
        "\n",
        "print(avg_rating)"
      ],
      "execution_count": 11,
      "outputs": [
        {
          "output_type": "stream",
          "text": [
            "3.900331411561667\n"
          ],
          "name": "stdout"
        }
      ]
    }
  ]
}