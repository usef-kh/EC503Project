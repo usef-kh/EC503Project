{
  "nbformat": 4,
  "nbformat_minor": 0,
  "metadata": {
    "colab": {
      "name": "Synthesized_Dataset.ipynb",
      "provenance": [],
      "collapsed_sections": []
    },
    "kernelspec": {
      "name": "python3",
      "display_name": "Python 3"
    },
    "accelerator": "GPU"
  },
  "cells": [
    {
      "cell_type": "markdown",
      "metadata": {
        "id": "zjfwvV0WF1Xx",
        "colab_type": "text"
      },
      "source": [
        "# Building Synthetic Dataset"
      ]
    },
    {
      "cell_type": "markdown",
      "metadata": {
        "id": "aa8UY3_3FhNg",
        "colab_type": "text"
      },
      "source": [
        "\n",
        "#### Before running our algorithm on the movielens dataset, we decided to build a synthetic dataset and see if our algorithim would at least perform reasonably well in theory.\n",
        "\n",
        "#### It is important to note that, while the dimensions of the matricies involved in recommender systems are extremely large, their rank is usually comparetively small. This is  why matrix factorization using SVD is a viable option."
      ]
    },
    {
      "cell_type": "code",
      "metadata": {
        "id": "fhuzp0HHWk-9",
        "colab_type": "code",
        "outputId": "5333b13d-6e59-483a-f646-39dfb48ce4a9",
        "colab": {
          "base_uri": "https://localhost:8080/",
          "height": 176
        }
      },
      "source": [
        "import pandas as pd\n",
        "import numpy as np\n",
        "from sklearn.model_selection import train_test_split\n",
        "from copy import deepcopy\n",
        "from numpy.linalg import matrix_rank\n",
        "\n",
        "d = 100\n",
        "r = 10\n",
        "\n",
        "vec = (np.random.randint(9, size=(1,d))+1)/2\n",
        "mat = vec*np.transpose(vec)\n",
        "zer = np.zeros(mat.shape)\n",
        "\n",
        "for i in range(r-1):\n",
        "  zer[i][i] = 1\n",
        "\n",
        "mat = mat + zer\n",
        "min_a = np.amin(mat)\n",
        "max_a = np.amax(mat)\n",
        "range_a = max_a - min_a\n",
        "\n",
        "data = 4.5*((mat - min_a)/range_a) + 0.5\n",
        "data = np.round(2*data)/2\n",
        "\n",
        "u,m = data.shape\n",
        "print(\"Rank:\", matrix_rank(data))\n",
        "print(\"Dataset Shape:\", data.shape)\n",
        "print(data)"
      ],
      "execution_count": 1,
      "outputs": [
        {
          "output_type": "stream",
          "text": [
            "Rank: 11\n",
            "Dataset Shape: (100, 100)\n",
            "[[1.5 1.5 1.5 ... 2.  1.  1.5]\n",
            " [1.5 1.5 1.5 ... 2.  1.  1.5]\n",
            " [1.5 1.5 1.5 ... 2.  1.  1.5]\n",
            " ...\n",
            " [2.  2.  2.  ... 3.  1.  2. ]\n",
            " [1.  1.  1.  ... 1.  0.5 1. ]\n",
            " [1.5 1.5 1.5 ... 2.  1.  1.5]]\n"
          ],
          "name": "stdout"
        }
      ]
    },
    {
      "cell_type": "code",
      "metadata": {
        "id": "PLQ8LtDdxpYs",
        "colab_type": "code",
        "colab": {
          "base_uri": "https://localhost:8080/",
          "height": 34
        },
        "outputId": "5ac4bf42-aacb-4f88-9250-008d1b1b121a"
      },
      "source": [
        "from scipy.sparse.linalg import svds\n",
        "from sklearn.metrics import confusion_matrix\n",
        "from sklearn.metrics import mean_absolute_error as mae\n",
        "\n",
        "densities = [0.9, 0.8, 0.7, 0.6, 0.5, 0.4, 0.3, 0.2, 0.1, 0.05]\n",
        "MAE = []\n",
        "for i, density in enumerate(densities):\n",
        "  train_select = np.random.choice(a=[False, True], size=(u,m), p=[1-density, density])\n",
        "  test_select = np.logical_not(train_select)\n",
        "\n",
        "  train = deepcopy(data)\n",
        "  train[test_select] = np.nan\n",
        "\n",
        "  test = deepcopy(data)\n",
        "  test[train_select] = np.nan\n",
        "\n",
        "  # print(\"Density:\", density)\n",
        "  # print((~np.isnan(train)).sum(), (~np.isnan(test)).sum())\n",
        "\n",
        "  mean_rating = np.nanmean(train, axis=1)\n",
        "  mm = np.nanmean(mean_rating, axis = 0)\n",
        "  mnan = np.argwhere(np.isnan(mean_rating))\n",
        "  mean_rating[mnan] = mm\n",
        "\n",
        "  [m,u] = train.shape\n",
        "\n",
        "  for i in range(m):\n",
        "    for j in range(u):\n",
        "      if(np.isnan(train[i,j])):\n",
        "        train[i,j] = mean_rating[i]\n",
        "\n",
        "  reconstruction = deepcopy(train)\n",
        "  for j in range(20):\n",
        "    U, sigma, Vt = svds(reconstruction, 20)\n",
        "    sigma = np.diag(sigma)\n",
        "\n",
        "    reconstruction = np.round(2*(np.dot(np.dot(U, sigma), Vt)))/2\n",
        "    reconstruction[train_select] = train[train_select]\n",
        "\n",
        "    reconstruction[reconstruction > 5] = 5\n",
        "    reconstruction[reconstruction < 0.5] = 0.5\n",
        "\n",
        "  reconstruction = np.round(2*(np.dot(np.dot(U, sigma), Vt)))/2\n",
        "  result = reconstruction[test_select].flatten() \n",
        "  ground_truth = test[test_select].flatten()\n",
        "  MAE.append(mae(result,ground_truth))\n"
      ],
      "execution_count": 2,
      "outputs": [
        {
          "output_type": "stream",
          "text": [
            "/usr/local/lib/python3.6/dist-packages/ipykernel_launcher.py:20: RuntimeWarning: Mean of empty slice\n"
          ],
          "name": "stderr"
        }
      ]
    },
    {
      "cell_type": "code",
      "metadata": {
        "id": "vwYitJiGy1mV",
        "colab_type": "code",
        "outputId": "ed40b201-414f-4356-8e85-739dc5b06b79",
        "colab": {
          "base_uri": "https://localhost:8080/",
          "height": 365
        }
      },
      "source": [
        "from matplotlib import pyplot as plt\n",
        "\n",
        "plt.plot(densities, MAE)\n",
        "plt.xlabel('Matrix Density')\n",
        "plt.ylabel('Test MAE')\n",
        "plt.xticks(np.arange(min(densities), max(densities), 0.1))\n",
        "plt.title(\"MAE vs Matrix Density\")\n",
        "plt.grid()\n",
        "\n",
        "print(\"Dataset Shape:\", data.shape)\n",
        "print(\"Dataset rank:\", matrix_rank(data))\n",
        "print(\"Minimum MAE:\", \"{0:0.2f}\".format(min(MAE)))\n",
        "print(\"Maximum MAE:\", \"{0:0.2f}\".format(max(MAE)))\n"
      ],
      "execution_count": 3,
      "outputs": [
        {
          "output_type": "stream",
          "text": [
            "Dataset Shape: (100, 100)\n",
            "Dataset rank: 11\n",
            "Minimum MAE: 0.24\n",
            "Maximum MAE: 0.63\n"
          ],
          "name": "stdout"
        },
        {
          "output_type": "display_data",
          "data": {
            "image/png": "[encoded data removed]",
            "text/plain": [
              "<Figure size 432x288 with 1 Axes>"
            ]
          },
          "metadata": {
            "tags": []
          }
        }
      ]
    },
    {
      "cell_type": "code",
      "metadata": {
        "id": "C734D09uMQj5",
        "colab_type": "code",
        "outputId": "f093fe87-ef41-492f-a51d-b11926098b94",
        "colab": {
          "base_uri": "https://localhost:8080/",
          "height": 70
        }
      },
      "source": [
        "from scipy.sparse.linalg import svds\n",
        "from sklearn.metrics import confusion_matrix\n",
        "\n",
        "density = 0.2\n",
        "\n",
        "train_select = np.random.choice(a=[False, True], size=(u,m), p=[1-density, density])\n",
        "test_select = np.logical_not(train_select)\n",
        "\n",
        "train = deepcopy(data)\n",
        "train[test_select] = np.nan\n",
        "\n",
        "test = deepcopy(data)\n",
        "test[train_select] = np.nan\n",
        "\n",
        "print(\"Density:\", density)\n",
        "print(\"Train Num Count:\", (~np.isnan(train)).sum())\n",
        "print(\"Test Num Count:\", (~np.isnan(test)).sum())\n",
        "\n",
        "mean_rating = np.round(2*np.nanmean(train, axis=0))/2\n",
        "inds = np.where(np.isnan(train))\n",
        "train[inds] = np.take(mean_rating, inds[1])\n",
        "\n",
        "k = 2\n",
        "tmax = 51\n",
        "MAE = []\n",
        "reconstruction = deepcopy(train)\n",
        "for t in range(tmax):\n",
        "  U, sigma, Vt = svds(reconstruction, k)\n",
        "  sigma = np.diag(sigma)\n",
        "\n",
        "  reconstruction = np.round(2*(np.dot(np.dot(U, sigma), Vt)))/2\n",
        "  reconstruction[train_select] = train[train_select]\n",
        "\n",
        "  reconstruction[reconstruction > 5] = 5\n",
        "  reconstruction[reconstruction < 0.5] = 0.5\n",
        "\n",
        "  result = reconstruction[test_select].flatten() \n",
        "  ground_truth = test[test_select].flatten()\n",
        "  MAE.append(mae(result,ground_truth))\n"
      ],
      "execution_count": 12,
      "outputs": [
        {
          "output_type": "stream",
          "text": [
            "Density: 0.2\n",
            "Train Num Count: 2026\n",
            "Test Num Count: 7974\n"
          ],
          "name": "stdout"
        }
      ]
    },
    {
      "cell_type": "code",
      "metadata": {
        "id": "atVUzcATM-UX",
        "colab_type": "code",
        "outputId": "9dc7a610-389d-4a6f-d9b5-caa525677813",
        "colab": {
          "base_uri": "https://localhost:8080/",
          "height": 365
        }
      },
      "source": [
        "plt.plot(list(range(tmax)), MAE)\n",
        "plt.xlabel('Iteration (t)')\n",
        "plt.ylabel('Test MAE')\n",
        "plt.xticks(np.arange(0, tmax, 10))\n",
        "plt.xlim(0,tmax)\n",
        "plt.title(\"MAE vs Iteration (t)\")\n",
        "plt.grid()\n",
        "\n",
        "print(\"Dataset Shape:\", data.shape)\n",
        "print(\"Dataset rank:\", matrix_rank(data))\n",
        "\n",
        "print(\"Maximum MAE:\", \"{0:0.2f}\".format(max(MAE)))\n",
        "print(\"Minimum MAE:\", \"{0:0.2f}\".format(min(MAE)))"
      ],
      "execution_count": 13,
      "outputs": [
        {
          "output_type": "stream",
          "text": [
            "Dataset Shape: (100, 100)\n",
            "Dataset rank: 11\n",
            "Maximum MAE: 0.53\n",
            "Minimum MAE: 0.26\n"
          ],
          "name": "stdout"
        },
        {
          "output_type": "display_data",
          "data": {
            "image/png": "[encoded data removed]",
            "text/plain": [
              "<Figure size 432x288 with 1 Axes>"
            ]
          },
          "metadata": {
            "tags": []
          }
        }
      ]
    },
    {
      "cell_type": "code",
      "metadata": {
        "id": "JuWqSO1jBLgs",
        "colab_type": "code",
        "colab": {}
      },
      "source": [
        ""
      ],
      "execution_count": 0,
      "outputs": []
    }
  ]
}