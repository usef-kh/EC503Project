{
  "nbformat": 4,
  "nbformat_minor": 0,
  "metadata": {
    "colab": {
      "name": "Synthesized Dataset.ipynb",
      "provenance": [],
      "collapsed_sections": []
    },
    "kernelspec": {
      "name": "python3",
      "display_name": "Python 3"
    },
    "accelerator": "GPU"
  },
  "cells": [
    {
      "cell_type": "markdown",
      "metadata": {
        "id": "zjfwvV0WF1Xx",
        "colab_type": "text"
      },
      "source": [
        "# Building Synthetic Dataset"
      ]
    },
    {
      "cell_type": "markdown",
      "metadata": {
        "id": "aa8UY3_3FhNg",
        "colab_type": "text"
      },
      "source": [
        "\n",
        "#### Before running our algorithm on the movielens dataset, we decided to build a synthetic dataset and see if our algorithim would at least perform reasonably well in theory.\n",
        "\n",
        "#### It is important to note that, while the dimensions of the matricies involved in recommender systems are extremely large, their rank is usually comparetively small. This is  why matrix factorization using SVD is a viable option."
      ]
    },
    {
      "cell_type": "code",
      "metadata": {
        "id": "fhuzp0HHWk-9",
        "colab_type": "code",
        "outputId": "8a28f5ff-aa52-48ee-ad6d-b4845282f0f0",
        "colab": {
          "base_uri": "https://localhost:8080/",
          "height": 170
        }
      },
      "source": [
        "import pandas as pd\n",
        "import numpy as np\n",
        "from sklearn.model_selection import train_test_split\n",
        "from copy import deepcopy\n",
        "from numpy.linalg import matrix_rank\n",
        "\n",
        "d = 100\n",
        "r = 5\n",
        "\n",
        "vec = (np.random.randint(9, size=(1,d))+1)/2\n",
        "mat = vec*np.transpose(vec)\n",
        "zer = np.zeros(mat.shape)\n",
        "\n",
        "for i in range(r-1):\n",
        "  zer[i][i] = 1\n",
        "\n",
        "mat = mat + zer\n",
        "min_a = np.amin(mat)\n",
        "max_a = np.amax(mat)\n",
        "range_a = max_a - min_a\n",
        "\n",
        "data = 4.5*((mat - min_a)/range_a) + 0.5\n",
        "data = np.round(2*data)/2\n",
        "\n",
        "u,m = data.shape\n",
        "print(\"Rank:\", matrix_rank(data))\n",
        "print(\"Dataset Shape:\", data.shape)\n",
        "print(data)"
      ],
      "execution_count": 60,
      "outputs": [
        {
          "output_type": "stream",
          "text": [
            "Rank: 10\n",
            "Dataset Shape: (100, 100)\n",
            "[[2.5 1.  1.5 ... 1.  3.5 2. ]\n",
            " [1.  0.5 0.5 ... 0.5 1.  0.5]\n",
            " [1.5 0.5 1.  ... 1.  2.  1.5]\n",
            " ...\n",
            " [1.  0.5 1.  ... 0.5 1.5 1. ]\n",
            " [3.5 1.  2.  ... 1.5 5.  3. ]\n",
            " [2.  0.5 1.5 ... 1.  3.  2. ]]\n"
          ],
          "name": "stdout"
        }
      ]
    },
    {
      "cell_type": "code",
      "metadata": {
        "id": "PLQ8LtDdxpYs",
        "colab_type": "code",
        "outputId": "0f372bad-ad0f-408b-af45-210b0764a0a8",
        "colab": {
          "base_uri": "https://localhost:8080/",
          "height": 187
        }
      },
      "source": [
        "from scipy.sparse.linalg import svds\n",
        "from sklearn.metrics import confusion_matrix\n",
        "from sklearn.metrics import mean_absolute_error as mae\n",
        "\n",
        "densities = [0.9, 0.8, 0.7, 0.6, 0.5, 0.4, 0.3, 0.2, 0.1, 0.05]\n",
        "MAE = []\n",
        "for i, density in enumerate(densities):\n",
        "  train_select = np.random.choice(a=[False, True], size=(u,m), p=[1-density, density])\n",
        "  test_select = np.logical_not(train_select)\n",
        "\n",
        "  train = deepcopy(data)\n",
        "  train[test_select] = np.nan\n",
        "\n",
        "  test = deepcopy(data)\n",
        "  test[train_select] = np.nan\n",
        "\n",
        "  print(\"Density:\", density)\n",
        "  # print(\"Train Num Count:\", (~np.isnan(train)).sum())\n",
        "  # print(\"Test Num Count:\", (~np.isnan(test)).sum())\n",
        "\n",
        "  mean_rating = np.nanmean(train, axis=0)\n",
        "  inds = np.where(np.isnan(train))\n",
        "  train[inds] = np.take(mean_rating, inds[1])\n",
        "\n",
        "  reconstruction = train\n",
        "  for j in range(20):\n",
        "    U, sigma, Vt = svds(reconstruction, 20)\n",
        "    sigma = np.diag(sigma)\n",
        "\n",
        "    reconstruction = np.round(2*(np.dot(np.dot(U, sigma), Vt)))/2\n",
        "    reconstruction[train_select] = train[train_select]\n",
        "\n",
        "    reconstruction[reconstruction > 5] = 5\n",
        "    reconstruction[reconstruction < 0.5] = 0.5\n",
        "\n",
        "  reconstruction = np.round(2*(np.dot(np.dot(U, sigma), Vt)))/2\n",
        "  result = reconstruction[test_select].flatten() \n",
        "  ground_truth = test[test_select].flatten()\n",
        "  \n",
        "  cm = confusion_matrix(ground_truth*2, result*2)\n",
        "  MAE.append(mae(result,ground_truth))\n",
        "  #CCR.append(100*(np.trace(cm)/np.sum(cm)))\n",
        "\n",
        "  # print(\"CCR:\", CCR[i])\n",
        "  # print()"
      ],
      "execution_count": 61,
      "outputs": [
        {
          "output_type": "stream",
          "text": [
            "Density: 0.9\n",
            "Density: 0.8\n",
            "Density: 0.7\n",
            "Density: 0.6\n",
            "Density: 0.5\n",
            "Density: 0.4\n",
            "Density: 0.3\n",
            "Density: 0.2\n",
            "Density: 0.1\n",
            "Density: 0.05\n"
          ],
          "name": "stdout"
        }
      ]
    },
    {
      "cell_type": "code",
      "metadata": {
        "id": "vwYitJiGy1mV",
        "colab_type": "code",
        "outputId": "9a809359-b504-4d80-c009-ada73b8ed134",
        "colab": {
          "base_uri": "https://localhost:8080/",
          "height": 346
        }
      },
      "source": [
        "from matplotlib import pyplot as plt\n",
        "\n",
        "plt.plot(densities, MAE)\n",
        "plt.xlabel('Matrix Density')\n",
        "plt.ylabel('Test MAE')\n",
        "plt.xticks(np.arange(min(densities), max(densities), 0.1))\n",
        "#plt.xticks(densities)\n",
        "plt.title(\"MAE vs Matrix Density\")\n",
        "plt.grid()\n",
        "\n",
        "print(\"Dataset Shape:\", data.shape)\n",
        "print(\"Dataset rank:\", matrix_rank(data))\n",
        "print(\"Minimum CCR:\", \"{0:0.2f}\".format(min(MAE)) + '%')\n",
        "\n",
        "\n",
        "# plt.savefig(\"abc.png\")"
      ],
      "execution_count": 69,
      "outputs": [
        {
          "output_type": "stream",
          "text": [
            "Dataset Shape: (100, 100)\n",
            "Dataset rank: 10\n",
            "Minimum CCR: 0.24%\n"
          ],
          "name": "stdout"
        },
        {
          "output_type": "display_data",
          "data": {
            "image/png": "[encoded data removed]",
            "text/plain": [
              "<Figure size 432x288 with 1 Axes>"
            ]
          },
          "metadata": {
            "tags": []
          }
        }
      ]
    },
    {
      "cell_type": "code",
      "metadata": {
        "id": "9KopPTVSZ_tU",
        "colab_type": "code",
        "outputId": "76a1606b-303d-403d-e851-936e79e877fd",
        "colab": {
          "base_uri": "https://localhost:8080/",
          "height": 68
        }
      },
      "source": [
        "from scipy.sparse.linalg import svds\n",
        "from sklearn.metrics import confusion_matrix\n",
        "\n",
        "density = 0.2\n",
        "\n",
        "train_select = np.random.choice(a=[False, True], size=(u,m), p=[1-density, density])\n",
        "test_select = np.logical_not(train_select)\n",
        "\n",
        "train = deepcopy(data)\n",
        "train[test_select] = np.nan\n",
        "\n",
        "test = deepcopy(data)\n",
        "test[train_select] = np.nan\n",
        "\n",
        "print(\"Density:\", density)\n",
        "print(\"Train Num Count:\", (~np.isnan(train)).sum())\n",
        "print(\"Test Num Count:\", (~np.isnan(test)).sum())\n",
        "\n",
        "mean_rating = np.nanmean(train, axis=0)\n",
        "inds = np.where(np.isnan(train))\n",
        "train[inds] = np.take(mean_rating, inds[1])"
      ],
      "execution_count": 57,
      "outputs": [
        {
          "output_type": "stream",
          "text": [
            "Density: 0.2\n",
            "Train Num Count: 2013\n",
            "Test Num Count: 7987\n"
          ],
          "name": "stdout"
        }
      ]
    },
    {
      "cell_type": "code",
      "metadata": {
        "id": "C734D09uMQj5",
        "colab_type": "code",
        "outputId": "43bc8362-41a3-4af2-ec18-3b1157b2628f",
        "colab": {
          "base_uri": "https://localhost:8080/",
          "height": 238
        }
      },
      "source": [
        "from scipy.sparse.linalg import svds\n",
        "from sklearn.metrics import confusion_matrix\n",
        "\n",
        "density = 0.2\n",
        "\n",
        "train_select = np.random.choice(a=[False, True], size=(u,m), p=[1-density, density])\n",
        "test_select = np.logical_not(train_select)\n",
        "\n",
        "train = deepcopy(data)\n",
        "train[test_select] = np.nan\n",
        "\n",
        "test = deepcopy(data)\n",
        "test[train_select] = np.nan\n",
        "\n",
        "print(\"Density:\", density)\n",
        "print(\"Train Num Count:\", (~np.isnan(train)).sum())\n",
        "print(\"Test Num Count:\", (~np.isnan(test)).sum())\n",
        "\n",
        "mean_rating = np.nanmean(train, axis=0)\n",
        "inds = np.where(np.isnan(train))\n",
        "train[inds] = np.take(mean_rating, inds[1])\n",
        "\n",
        "tmax = 10\n",
        "MAE = []\n",
        "reconstruction = train\n",
        "for t in range(tmax):\n",
        "  print(t)\n",
        "  U, sigma, Vt = svds(reconstruction, 20)\n",
        "  sigma = np.diag(sigma)\n",
        "\n",
        "  reconstruction = np.round(2*(np.dot(np.dot(U, sigma), Vt)))/2\n",
        "  reconstruction[train_select] = train[train_select]\n",
        "\n",
        "  reconstruction[reconstruction > 5] = 5\n",
        "  reconstruction[reconstruction < 0.5] = 0.5\n",
        "\n",
        "  reconstruction = np.round(2*(np.dot(np.dot(U, sigma), Vt)))/2\n",
        "  result = reconstruction[test_select].flatten() \n",
        "  ground_truth = test[test_select].flatten()\n",
        "\n",
        "  cm = confusion_matrix(ground_truth*2, result*2)\n",
        "\n",
        "  MAE.append(mae(result,ground_truth))"
      ],
      "execution_count": 58,
      "outputs": [
        {
          "output_type": "stream",
          "text": [
            "Density: 0.2\n",
            "Train Num Count: 1938\n",
            "Test Num Count: 8062\n",
            "0\n",
            "1\n",
            "2\n",
            "3\n",
            "4\n",
            "5\n",
            "6\n",
            "7\n",
            "8\n",
            "9\n"
          ],
          "name": "stdout"
        }
      ]
    },
    {
      "cell_type": "code",
      "metadata": {
        "id": "atVUzcATM-UX",
        "colab_type": "code",
        "outputId": "b9a4ace6-79b7-425f-acc0-db94058da9d1",
        "colab": {
          "base_uri": "https://localhost:8080/",
          "height": 329
        }
      },
      "source": [
        "plt.plot(list(range(tmax)), MAE)\n",
        "plt.xlabel('Number of Iterations')\n",
        "plt.ylabel('Test MAE')\n",
        "plt.xticks(np.arange(1, 10, 1))\n",
        "plt.xlim(0,10)\n",
        "plt.title(\"MAE vs Matrix Density\")\n",
        "plt.grid()\n",
        "\n",
        "print(\"Dataset Shape:\", data.shape)\n",
        "print(\"Dataset rank:\", matrix_rank(data))\n",
        "#print(\"Maximum CCR:\", \"{0:0.2f}\".format(max(MMR)) + '%', 'happens at the', MMR.index(max(MMR)), 'iteration')\n",
        "\n",
        "\n",
        "# plt.savefig(\"abc.png\")"
      ],
      "execution_count": 59,
      "outputs": [
        {
          "output_type": "stream",
          "text": [
            "Dataset Shape: (100, 100)\n",
            "Dataset rank: 9\n"
          ],
          "name": "stdout"
        },
        {
          "output_type": "display_data",
          "data": {
            "image/png": "[encoded data removed]",
            "text/plain": [
              "<Figure size 432x288 with 1 Axes>"
            ]
          },
          "metadata": {
            "tags": []
          }
        }
      ]
    },
    {
      "cell_type": "code",
      "metadata": {
        "id": "Vz3dIQeL_lCn",
        "colab_type": "code",
        "colab": {}
      },
      "source": [
        ""
      ],
      "execution_count": 0,
      "outputs": []
    }
  ]
}