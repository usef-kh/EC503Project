{
  "nbformat": 4,
  "nbformat_minor": 0,
  "metadata": {
    "colab": {
      "name": "Synthesized_Dataset.ipynb",
      "provenance": [],
      "collapsed_sections": []
    },
    "kernelspec": {
      "name": "python3",
      "display_name": "Python 3"
    },
    "accelerator": "GPU"
  },
  "cells": [
    {
      "cell_type": "markdown",
      "metadata": {
        "id": "zjfwvV0WF1Xx",
        "colab_type": "text"
      },
      "source": [
        "# Building Synthetic Dataset"
      ]
    },
    {
      "cell_type": "markdown",
      "metadata": {
        "id": "aa8UY3_3FhNg",
        "colab_type": "text"
      },
      "source": [
        "\n",
        "#### Before running our algorithm on the movielens dataset, we decided to build a synthetic dataset and see if our algorithim would at least perform reasonably well in theory.\n",
        "\n",
        "#### It is important to note that, while the dimensions of the matricies involved in recommender systems are extremely large, their rank is usually comparetively small. This is  why matrix factorization using SVD is a viable option."
      ]
    },
    {
      "cell_type": "code",
      "metadata": {
        "id": "fhuzp0HHWk-9",
        "colab_type": "code",
        "outputId": "f1d950d3-4d1c-436f-9469-d286b36e7118",
        "colab": {
          "base_uri": "https://localhost:8080/",
          "height": 170
        }
      },
      "source": [
        "import pandas as pd\n",
        "import numpy as np\n",
        "from sklearn.model_selection import train_test_split\n",
        "from copy import deepcopy\n",
        "from numpy.linalg import matrix_rank\n",
        "\n",
        "d = 100\n",
        "r = 10\n",
        "\n",
        "vec = (np.random.randint(9, size=(1,d))+1)/2\n",
        "mat = vec*np.transpose(vec)\n",
        "zer = np.zeros(mat.shape)\n",
        "\n",
        "for i in range(r-1):\n",
        "  zer[i][i] = 1\n",
        "\n",
        "mat = mat + zer\n",
        "min_a = np.amin(mat)\n",
        "max_a = np.amax(mat)\n",
        "range_a = max_a - min_a\n",
        "\n",
        "data = 4.5*((mat - min_a)/range_a) + 0.5\n",
        "data = np.round(2*data)/2\n",
        "\n",
        "u,m = data.shape\n",
        "print(\"Rank:\", matrix_rank(data))\n",
        "print(\"Dataset Shape:\", data.shape)\n",
        "print(data)"
      ],
      "execution_count": 1,
      "outputs": [
        {
          "output_type": "stream",
          "text": [
            "Rank: 11\n",
            "Dataset Shape: (100, 100)\n",
            "[[3.5 4.  2.5 ... 3.5 4.  2.5]\n",
            " [4.  5.  3.  ... 4.5 5.  3. ]\n",
            " [2.5 3.  2.  ... 2.5 3.  2. ]\n",
            " ...\n",
            " [3.5 4.5 2.5 ... 4.  4.5 2.5]\n",
            " [4.  5.  3.  ... 4.5 5.  3. ]\n",
            " [2.5 3.  2.  ... 2.5 3.  2. ]]\n"
          ],
          "name": "stdout"
        }
      ]
    },
    {
      "cell_type": "code",
      "metadata": {
        "id": "PLQ8LtDdxpYs",
        "colab_type": "code",
        "colab": {}
      },
      "source": [
        "from scipy.sparse.linalg import svds\n",
        "from sklearn.metrics import confusion_matrix\n",
        "from sklearn.metrics import mean_absolute_error as mae\n",
        "\n",
        "densities = [0.9, 0.8, 0.7, 0.6, 0.5, 0.4, 0.3, 0.2, 0.1, 0.05]\n",
        "MAE = []\n",
        "for i, density in enumerate(densities):\n",
        "  train_select = np.random.choice(a=[False, True], size=(u,m), p=[1-density, density])\n",
        "  test_select = np.logical_not(train_select)\n",
        "\n",
        "  train = deepcopy(data)\n",
        "  train[test_select] = np.nan\n",
        "\n",
        "  test = deepcopy(data)\n",
        "  test[train_select] = np.nan\n",
        "\n",
        "  # print(\"Density:\", density)\n",
        "  # print((~np.isnan(train)).sum(), (~np.isnan(test)).sum())\n",
        "\n",
        "  mean_rating = np.nanmean(train, axis=0)\n",
        "  inds = np.where(np.isnan(train))\n",
        "  train[inds] = np.take(mean_rating, inds[1])\n",
        "\n",
        "  reconstruction = deepcopy(train)\n",
        "  for j in range(20):\n",
        "    U, sigma, Vt = svds(reconstruction, 20)\n",
        "    sigma = np.diag(sigma)\n",
        "\n",
        "    reconstruction = np.round(2*(np.dot(np.dot(U, sigma), Vt)))/2\n",
        "    reconstruction[train_select] = train[train_select]\n",
        "\n",
        "    reconstruction[reconstruction > 5] = 5\n",
        "    reconstruction[reconstruction < 0.5] = 0.5\n",
        "\n",
        "  reconstruction = np.round(2*(np.dot(np.dot(U, sigma), Vt)))/2\n",
        "  result = reconstruction[test_select].flatten() \n",
        "  ground_truth = test[test_select].flatten()\n",
        "  MAE.append(mae(result,ground_truth))\n"
      ],
      "execution_count": 0,
      "outputs": []
    },
    {
      "cell_type": "code",
      "metadata": {
        "id": "vwYitJiGy1mV",
        "colab_type": "code",
        "outputId": "f892ccad-2f83-407d-8f4a-c496942efc2b",
        "colab": {
          "base_uri": "https://localhost:8080/",
          "height": 363
        }
      },
      "source": [
        "from matplotlib import pyplot as plt\n",
        "\n",
        "plt.plot(densities, MAE)\n",
        "plt.xlabel('Matrix Density')\n",
        "plt.ylabel('Test MAE')\n",
        "plt.xticks(np.arange(min(densities), max(densities), 0.1))\n",
        "#plt.xticks(densities)\n",
        "plt.title(\"MAE vs Matrix Density\")\n",
        "plt.grid()\n",
        "\n",
        "print(\"Dataset Shape:\", data.shape)\n",
        "print(\"Dataset rank:\", matrix_rank(data))\n",
        "print(\"Minimum MAE:\", \"{0:0.2f}\".format(min(MAE)))\n",
        "print(\"Maximum MAE:\", \"{0:0.2f}\".format(max(MAE)))\n"
      ],
      "execution_count": 3,
      "outputs": [
        {
          "output_type": "stream",
          "text": [
            "Dataset Shape: (100, 100)\n",
            "Dataset rank: 11\n",
            "Minimum MAE: 0.25\n",
            "Maximum MAE: 0.62\n"
          ],
          "name": "stdout"
        },
        {
          "output_type": "display_data",
          "data": {
            "image/png": "[encoded data removed]",
            "text/plain": [
              "<Figure size 432x288 with 1 Axes>"
            ]
          },
          "metadata": {
            "tags": []
          }
        }
      ]
    },
    {
      "cell_type": "code",
      "metadata": {
        "id": "C734D09uMQj5",
        "colab_type": "code",
        "outputId": "cb6ae8ed-965e-4fca-ccc9-09652ba834e8",
        "colab": {
          "base_uri": "https://localhost:8080/",
          "height": 68
        }
      },
      "source": [
        "from scipy.sparse.linalg import svds\n",
        "from sklearn.metrics import confusion_matrix\n",
        "\n",
        "density = 0.2\n",
        "\n",
        "train_select = np.random.choice(a=[False, True], size=(u,m), p=[1-density, density])\n",
        "test_select = np.logical_not(train_select)\n",
        "\n",
        "train = deepcopy(data)\n",
        "train[test_select] = np.nan\n",
        "\n",
        "test = deepcopy(data)\n",
        "test[train_select] = np.nan\n",
        "\n",
        "print(\"Density:\", density)\n",
        "print(\"Train Num Count:\", (~np.isnan(train)).sum())\n",
        "print(\"Test Num Count:\", (~np.isnan(test)).sum())\n",
        "\n",
        "mean_rating = np.round(2*np.nanmean(train, axis=0))/2\n",
        "inds = np.where(np.isnan(train))\n",
        "train[inds] = np.take(mean_rating, inds[1])\n",
        "\n",
        "k = 1\n",
        "tmax = 101\n",
        "MAE = []\n",
        "reconstruction = deepcopy(train)\n",
        "for t in range(tmax):\n",
        "  U, sigma, Vt = svds(reconstruction, k)\n",
        "  sigma = np.diag(sigma)\n",
        "\n",
        "  reconstruction = np.round(2*(np.dot(np.dot(U, sigma), Vt)))/2\n",
        "  reconstruction[train_select] = train[train_select]\n",
        "\n",
        "  reconstruction[reconstruction > 5] = 5\n",
        "  reconstruction[reconstruction < 0.5] = 0.5\n",
        "\n",
        "  result = reconstruction[test_select].flatten() \n",
        "  ground_truth = test[test_select].flatten()\n",
        "  MAE.append(mae(result,ground_truth))\n"
      ],
      "execution_count": 8,
      "outputs": [
        {
          "output_type": "stream",
          "text": [
            "Density: 0.2\n",
            "Train Num Count: 2059\n",
            "Test Num Count: 7941\n"
          ],
          "name": "stdout"
        }
      ]
    },
    {
      "cell_type": "code",
      "metadata": {
        "id": "atVUzcATM-UX",
        "colab_type": "code",
        "outputId": "ffef8589-5f1a-4cfe-c1ad-e6b761efacdb",
        "colab": {
          "base_uri": "https://localhost:8080/",
          "height": 363
        }
      },
      "source": [
        "plt.plot(list(range(tmax)), MAE)\n",
        "plt.xlabel('Iteration (t)')\n",
        "plt.ylabel('Test MAE')\n",
        "plt.xticks(np.arange(0, tmax, 10))\n",
        "plt.xlim(0,tmax)\n",
        "plt.title(\"MAE vs Iteration (t)\")\n",
        "plt.grid()\n",
        "\n",
        "print(\"Dataset Shape:\", data.shape)\n",
        "print(\"Dataset rank:\", matrix_rank(data))\n",
        "\n",
        "print(\"Minimum MAE:\", \"{0:0.2f}\".format(min(MAE)))\n",
        "print(\"Maximum MAE:\", \"{0:0.2f}\".format(max(MAE)))"
      ],
      "execution_count": 10,
      "outputs": [
        {
          "output_type": "stream",
          "text": [
            "Dataset Shape: (100, 100)\n",
            "Dataset rank: 11\n",
            "Minimum MAE: 0.15\n",
            "Maximum MAE: 0.54\n"
          ],
          "name": "stdout"
        },
        {
          "output_type": "display_data",
          "data": {
            "image/png": "[encoded data removed]",
            "text/plain": [
              "<Figure size 432x288 with 1 Axes>"
            ]
          },
          "metadata": {
            "tags": []
          }
        }
      ]
    }
  ]
}